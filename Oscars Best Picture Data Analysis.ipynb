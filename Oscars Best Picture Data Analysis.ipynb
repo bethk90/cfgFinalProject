{
 "cells": [
  {
   "cell_type": "code",
   "execution_count": 82,
   "id": "704714c5",
   "metadata": {},
   "outputs": [],
   "source": [
    "import pandas as pd\n",
    "import matplotlib.pyplot as plt\n",
    "import seaborn as sns"
   ]
  },
  {
   "cell_type": "code",
   "execution_count": 83,
   "id": "f40ad19d",
   "metadata": {},
   "outputs": [],
   "source": [
    "df = pd.read_csv('oscars_df.csv') #Import Oscars Dataset for Best Picture Winners and Nominees"
   ]
  },
  {
   "cell_type": "code",
   "execution_count": 129,
   "id": "3f8e586c",
   "metadata": {},
   "outputs": [
    {
     "data": {
      "text/html": [
       "<div>\n",
       "<style scoped>\n",
       "    .dataframe tbody tr th:only-of-type {\n",
       "        vertical-align: middle;\n",
       "    }\n",
       "\n",
       "    .dataframe tbody tr th {\n",
       "        vertical-align: top;\n",
       "    }\n",
       "\n",
       "    .dataframe thead th {\n",
       "        text-align: right;\n",
       "    }\n",
       "</style>\n",
       "<table border=\"1\" class=\"dataframe\">\n",
       "  <thead>\n",
       "    <tr style=\"text-align: right;\">\n",
       "      <th></th>\n",
       "      <th>Unnamed: 0</th>\n",
       "      <th>Film</th>\n",
       "      <th>Oscar Year</th>\n",
       "      <th>Film Studio/Producer(s)</th>\n",
       "      <th>Award</th>\n",
       "      <th>Year of Release</th>\n",
       "      <th>Movie Time</th>\n",
       "      <th>Movie Genre</th>\n",
       "      <th>IMDB Rating</th>\n",
       "      <th>IMDB Votes</th>\n",
       "      <th>...</th>\n",
       "      <th>Tomatometer Status</th>\n",
       "      <th>Tomatometer Rating</th>\n",
       "      <th>Tomatometer Count</th>\n",
       "      <th>Audience Status</th>\n",
       "      <th>Audience Rating</th>\n",
       "      <th>Audience Count</th>\n",
       "      <th>Tomatometer Top Critics Count</th>\n",
       "      <th>Tomatometer Fresh Critics Count</th>\n",
       "      <th>Tomatometer Rotten Critics Count</th>\n",
       "      <th>Film ID</th>\n",
       "    </tr>\n",
       "  </thead>\n",
       "  <tbody>\n",
       "    <tr>\n",
       "      <th>0</th>\n",
       "      <td>0</td>\n",
       "      <td>Wings</td>\n",
       "      <td>1927/28</td>\n",
       "      <td>Famous Players-Lasky</td>\n",
       "      <td>Winner</td>\n",
       "      <td>1927</td>\n",
       "      <td>144</td>\n",
       "      <td>Drama,Romance,War</td>\n",
       "      <td>7.5</td>\n",
       "      <td>12,221</td>\n",
       "      <td>...</td>\n",
       "      <td>Certified-Fresh</td>\n",
       "      <td>93.0</td>\n",
       "      <td>46.0</td>\n",
       "      <td>Upright</td>\n",
       "      <td>78.0</td>\n",
       "      <td>3530.0</td>\n",
       "      <td>9.0</td>\n",
       "      <td>43.0</td>\n",
       "      <td>3.0</td>\n",
       "      <td>2becf7d5-a3de-46ab-ae45-abdd6b588067</td>\n",
       "    </tr>\n",
       "    <tr>\n",
       "      <th>1</th>\n",
       "      <td>1</td>\n",
       "      <td>7th Heaven</td>\n",
       "      <td>1927/28</td>\n",
       "      <td>Fox</td>\n",
       "      <td>Nominee</td>\n",
       "      <td>1927</td>\n",
       "      <td>110</td>\n",
       "      <td>Drama,Romance</td>\n",
       "      <td>7.7</td>\n",
       "      <td>3,439</td>\n",
       "      <td>...</td>\n",
       "      <td>NaN</td>\n",
       "      <td>NaN</td>\n",
       "      <td>NaN</td>\n",
       "      <td>NaN</td>\n",
       "      <td>NaN</td>\n",
       "      <td>NaN</td>\n",
       "      <td>NaN</td>\n",
       "      <td>NaN</td>\n",
       "      <td>NaN</td>\n",
       "      <td>19ed3295-a878-4fd2-8e60-5cd7b5f93dad</td>\n",
       "    </tr>\n",
       "    <tr>\n",
       "      <th>2</th>\n",
       "      <td>2</td>\n",
       "      <td>The Racket</td>\n",
       "      <td>1927/28</td>\n",
       "      <td>The Caddo Company</td>\n",
       "      <td>Nominee</td>\n",
       "      <td>1928</td>\n",
       "      <td>84</td>\n",
       "      <td>Crime,Drama,Film-Noir</td>\n",
       "      <td>6.7</td>\n",
       "      <td>1,257</td>\n",
       "      <td>...</td>\n",
       "      <td>NaN</td>\n",
       "      <td>NaN</td>\n",
       "      <td>NaN</td>\n",
       "      <td>NaN</td>\n",
       "      <td>NaN</td>\n",
       "      <td>NaN</td>\n",
       "      <td>NaN</td>\n",
       "      <td>NaN</td>\n",
       "      <td>NaN</td>\n",
       "      <td>3111c2d8-0908-4093-8ff3-99c89f2f2f08</td>\n",
       "    </tr>\n",
       "    <tr>\n",
       "      <th>3</th>\n",
       "      <td>3</td>\n",
       "      <td>The Broadway Melody</td>\n",
       "      <td>1928/29</td>\n",
       "      <td>Metro-Goldwyn-Mayer</td>\n",
       "      <td>Winner</td>\n",
       "      <td>1929</td>\n",
       "      <td>100</td>\n",
       "      <td>Drama,Musical,Romance</td>\n",
       "      <td>5.7</td>\n",
       "      <td>6,890</td>\n",
       "      <td>...</td>\n",
       "      <td>Rotten</td>\n",
       "      <td>33.0</td>\n",
       "      <td>24.0</td>\n",
       "      <td>Spilled</td>\n",
       "      <td>21.0</td>\n",
       "      <td>1813.0</td>\n",
       "      <td>7.0</td>\n",
       "      <td>8.0</td>\n",
       "      <td>16.0</td>\n",
       "      <td>de063f3f-2d35-4e1c-8636-6eb4c16bd236</td>\n",
       "    </tr>\n",
       "    <tr>\n",
       "      <th>4</th>\n",
       "      <td>4</td>\n",
       "      <td>Alibi</td>\n",
       "      <td>1928/29</td>\n",
       "      <td>Feature Productions</td>\n",
       "      <td>Nominee</td>\n",
       "      <td>1929</td>\n",
       "      <td>91</td>\n",
       "      <td>Action,Crime,Romance</td>\n",
       "      <td>5.8</td>\n",
       "      <td>765</td>\n",
       "      <td>...</td>\n",
       "      <td>NaN</td>\n",
       "      <td>NaN</td>\n",
       "      <td>NaN</td>\n",
       "      <td>NaN</td>\n",
       "      <td>NaN</td>\n",
       "      <td>NaN</td>\n",
       "      <td>NaN</td>\n",
       "      <td>NaN</td>\n",
       "      <td>NaN</td>\n",
       "      <td>609887c2-877c-43a4-b88c-e40e31096a98</td>\n",
       "    </tr>\n",
       "    <tr>\n",
       "      <th>...</th>\n",
       "      <td>...</td>\n",
       "      <td>...</td>\n",
       "      <td>...</td>\n",
       "      <td>...</td>\n",
       "      <td>...</td>\n",
       "      <td>...</td>\n",
       "      <td>...</td>\n",
       "      <td>...</td>\n",
       "      <td>...</td>\n",
       "      <td>...</td>\n",
       "      <td>...</td>\n",
       "      <td>...</td>\n",
       "      <td>...</td>\n",
       "      <td>...</td>\n",
       "      <td>...</td>\n",
       "      <td>...</td>\n",
       "      <td>...</td>\n",
       "      <td>...</td>\n",
       "      <td>...</td>\n",
       "      <td>...</td>\n",
       "      <td>...</td>\n",
       "    </tr>\n",
       "    <tr>\n",
       "      <th>566</th>\n",
       "      <td>566</td>\n",
       "      <td>Mank</td>\n",
       "      <td>2020</td>\n",
       "      <td>Ceán Chaffin, Eric Roth, and Douglas Urbanski</td>\n",
       "      <td>Nominee</td>\n",
       "      <td>2020</td>\n",
       "      <td>131</td>\n",
       "      <td>Biography,Comedy,Drama</td>\n",
       "      <td>6.9</td>\n",
       "      <td>65,380</td>\n",
       "      <td>...</td>\n",
       "      <td>NaN</td>\n",
       "      <td>NaN</td>\n",
       "      <td>NaN</td>\n",
       "      <td>NaN</td>\n",
       "      <td>NaN</td>\n",
       "      <td>NaN</td>\n",
       "      <td>NaN</td>\n",
       "      <td>NaN</td>\n",
       "      <td>NaN</td>\n",
       "      <td>47d4ae4f-e782-4cd9-9508-4a07302b1c1a</td>\n",
       "    </tr>\n",
       "    <tr>\n",
       "      <th>567</th>\n",
       "      <td>567</td>\n",
       "      <td>Minari</td>\n",
       "      <td>2020</td>\n",
       "      <td>Christina Oh</td>\n",
       "      <td>Nominee</td>\n",
       "      <td>2020</td>\n",
       "      <td>115</td>\n",
       "      <td>Drama</td>\n",
       "      <td>7.5</td>\n",
       "      <td>57,976</td>\n",
       "      <td>...</td>\n",
       "      <td>NaN</td>\n",
       "      <td>NaN</td>\n",
       "      <td>NaN</td>\n",
       "      <td>NaN</td>\n",
       "      <td>NaN</td>\n",
       "      <td>NaN</td>\n",
       "      <td>NaN</td>\n",
       "      <td>NaN</td>\n",
       "      <td>NaN</td>\n",
       "      <td>7262b3a8-214d-4205-985c-70e0860f3236</td>\n",
       "    </tr>\n",
       "    <tr>\n",
       "      <th>568</th>\n",
       "      <td>568</td>\n",
       "      <td>Promising Young Woman</td>\n",
       "      <td>2020</td>\n",
       "      <td>Ben Browning, Ashley Fox, Emerald Fennell, and...</td>\n",
       "      <td>Nominee</td>\n",
       "      <td>2020</td>\n",
       "      <td>113</td>\n",
       "      <td>Crime,Drama,Thriller</td>\n",
       "      <td>7.5</td>\n",
       "      <td>122,269</td>\n",
       "      <td>...</td>\n",
       "      <td>NaN</td>\n",
       "      <td>NaN</td>\n",
       "      <td>NaN</td>\n",
       "      <td>NaN</td>\n",
       "      <td>NaN</td>\n",
       "      <td>NaN</td>\n",
       "      <td>NaN</td>\n",
       "      <td>NaN</td>\n",
       "      <td>NaN</td>\n",
       "      <td>d64c669b-7a73-496a-bddb-19cb09264371</td>\n",
       "    </tr>\n",
       "    <tr>\n",
       "      <th>569</th>\n",
       "      <td>569</td>\n",
       "      <td>Sound of Metal</td>\n",
       "      <td>2020</td>\n",
       "      <td>Bert Hamelinck and Sacha Ben Harroche</td>\n",
       "      <td>Nominee</td>\n",
       "      <td>2019</td>\n",
       "      <td>120</td>\n",
       "      <td>Drama,Music</td>\n",
       "      <td>7.8</td>\n",
       "      <td>102,807</td>\n",
       "      <td>...</td>\n",
       "      <td>NaN</td>\n",
       "      <td>NaN</td>\n",
       "      <td>NaN</td>\n",
       "      <td>NaN</td>\n",
       "      <td>NaN</td>\n",
       "      <td>NaN</td>\n",
       "      <td>NaN</td>\n",
       "      <td>NaN</td>\n",
       "      <td>NaN</td>\n",
       "      <td>647357e9-c067-46bd-aaeb-24d4344ec124</td>\n",
       "    </tr>\n",
       "    <tr>\n",
       "      <th>570</th>\n",
       "      <td>570</td>\n",
       "      <td>The Trial of the Chicago 7</td>\n",
       "      <td>2020</td>\n",
       "      <td>Marc Platt and Stuart M. Besser</td>\n",
       "      <td>Nominee</td>\n",
       "      <td>2020</td>\n",
       "      <td>129</td>\n",
       "      <td>Drama,History,Thriller</td>\n",
       "      <td>7.8</td>\n",
       "      <td>156,283</td>\n",
       "      <td>...</td>\n",
       "      <td>NaN</td>\n",
       "      <td>NaN</td>\n",
       "      <td>NaN</td>\n",
       "      <td>NaN</td>\n",
       "      <td>NaN</td>\n",
       "      <td>NaN</td>\n",
       "      <td>NaN</td>\n",
       "      <td>NaN</td>\n",
       "      <td>NaN</td>\n",
       "      <td>cecbca48-f19c-43f4-81d2-da130facda95</td>\n",
       "    </tr>\n",
       "  </tbody>\n",
       "</table>\n",
       "<p>571 rows × 30 columns</p>\n",
       "</div>"
      ],
      "text/plain": [
       "     Unnamed: 0                        Film Oscar Year  \\\n",
       "0             0                       Wings    1927/28   \n",
       "1             1                  7th Heaven    1927/28   \n",
       "2             2                  The Racket    1927/28   \n",
       "3             3         The Broadway Melody    1928/29   \n",
       "4             4                       Alibi    1928/29   \n",
       "..          ...                         ...        ...   \n",
       "566         566                        Mank       2020   \n",
       "567         567                      Minari       2020   \n",
       "568         568       Promising Young Woman       2020   \n",
       "569         569              Sound of Metal       2020   \n",
       "570         570  The Trial of the Chicago 7       2020   \n",
       "\n",
       "                               Film Studio/Producer(s)    Award  \\\n",
       "0                                 Famous Players-Lasky   Winner   \n",
       "1                                                  Fox  Nominee   \n",
       "2                                    The Caddo Company  Nominee   \n",
       "3                                  Metro-Goldwyn-Mayer   Winner   \n",
       "4                                  Feature Productions  Nominee   \n",
       "..                                                 ...      ...   \n",
       "566      Ceán Chaffin, Eric Roth, and Douglas Urbanski  Nominee   \n",
       "567                                       Christina Oh  Nominee   \n",
       "568  Ben Browning, Ashley Fox, Emerald Fennell, and...  Nominee   \n",
       "569              Bert Hamelinck and Sacha Ben Harroche  Nominee   \n",
       "570                    Marc Platt and Stuart M. Besser  Nominee   \n",
       "\n",
       "     Year of Release  Movie Time             Movie Genre  IMDB Rating  \\\n",
       "0               1927         144       Drama,Romance,War          7.5   \n",
       "1               1927         110           Drama,Romance          7.7   \n",
       "2               1928          84   Crime,Drama,Film-Noir          6.7   \n",
       "3               1929         100   Drama,Musical,Romance          5.7   \n",
       "4               1929          91    Action,Crime,Romance          5.8   \n",
       "..               ...         ...                     ...          ...   \n",
       "566             2020         131  Biography,Comedy,Drama          6.9   \n",
       "567             2020         115                   Drama          7.5   \n",
       "568             2020         113    Crime,Drama,Thriller          7.5   \n",
       "569             2019         120             Drama,Music          7.8   \n",
       "570             2020         129  Drama,History,Thriller          7.8   \n",
       "\n",
       "    IMDB Votes  ... Tomatometer Status Tomatometer Rating Tomatometer Count  \\\n",
       "0       12,221  ...    Certified-Fresh               93.0              46.0   \n",
       "1        3,439  ...                NaN                NaN               NaN   \n",
       "2        1,257  ...                NaN                NaN               NaN   \n",
       "3        6,890  ...             Rotten               33.0              24.0   \n",
       "4          765  ...                NaN                NaN               NaN   \n",
       "..         ...  ...                ...                ...               ...   \n",
       "566     65,380  ...                NaN                NaN               NaN   \n",
       "567     57,976  ...                NaN                NaN               NaN   \n",
       "568    122,269  ...                NaN                NaN               NaN   \n",
       "569    102,807  ...                NaN                NaN               NaN   \n",
       "570    156,283  ...                NaN                NaN               NaN   \n",
       "\n",
       "    Audience Status Audience Rating Audience Count  \\\n",
       "0           Upright            78.0         3530.0   \n",
       "1               NaN             NaN            NaN   \n",
       "2               NaN             NaN            NaN   \n",
       "3           Spilled            21.0         1813.0   \n",
       "4               NaN             NaN            NaN   \n",
       "..              ...             ...            ...   \n",
       "566             NaN             NaN            NaN   \n",
       "567             NaN             NaN            NaN   \n",
       "568             NaN             NaN            NaN   \n",
       "569             NaN             NaN            NaN   \n",
       "570             NaN             NaN            NaN   \n",
       "\n",
       "    Tomatometer Top Critics Count Tomatometer Fresh Critics Count  \\\n",
       "0                             9.0                            43.0   \n",
       "1                             NaN                             NaN   \n",
       "2                             NaN                             NaN   \n",
       "3                             7.0                             8.0   \n",
       "4                             NaN                             NaN   \n",
       "..                            ...                             ...   \n",
       "566                           NaN                             NaN   \n",
       "567                           NaN                             NaN   \n",
       "568                           NaN                             NaN   \n",
       "569                           NaN                             NaN   \n",
       "570                           NaN                             NaN   \n",
       "\n",
       "    Tomatometer Rotten Critics Count                               Film ID  \n",
       "0                                3.0  2becf7d5-a3de-46ab-ae45-abdd6b588067  \n",
       "1                                NaN  19ed3295-a878-4fd2-8e60-5cd7b5f93dad  \n",
       "2                                NaN  3111c2d8-0908-4093-8ff3-99c89f2f2f08  \n",
       "3                               16.0  de063f3f-2d35-4e1c-8636-6eb4c16bd236  \n",
       "4                                NaN  609887c2-877c-43a4-b88c-e40e31096a98  \n",
       "..                               ...                                   ...  \n",
       "566                              NaN  47d4ae4f-e782-4cd9-9508-4a07302b1c1a  \n",
       "567                              NaN  7262b3a8-214d-4205-985c-70e0860f3236  \n",
       "568                              NaN  d64c669b-7a73-496a-bddb-19cb09264371  \n",
       "569                              NaN  647357e9-c067-46bd-aaeb-24d4344ec124  \n",
       "570                              NaN  cecbca48-f19c-43f4-81d2-da130facda95  \n",
       "\n",
       "[571 rows x 30 columns]"
      ]
     },
     "execution_count": 129,
     "metadata": {},
     "output_type": "execute_result"
    }
   ],
   "source": [
    "df"
   ]
  },
  {
   "cell_type": "code",
   "execution_count": 84,
   "id": "91c4311a",
   "metadata": {},
   "outputs": [],
   "source": [
    "df.at[563,'Award']='Winner' #Update to include 2020 Winner"
   ]
  },
  {
   "cell_type": "code",
   "execution_count": 140,
   "id": "43b49992",
   "metadata": {},
   "outputs": [],
   "source": [
    "df_50 = df[280:] #Select only the last 50 Years of films"
   ]
  },
  {
   "cell_type": "code",
   "execution_count": 177,
   "id": "4b51cada",
   "metadata": {},
   "outputs": [
    {
     "data": {
      "text/html": [
       "<div>\n",
       "<style scoped>\n",
       "    .dataframe tbody tr th:only-of-type {\n",
       "        vertical-align: middle;\n",
       "    }\n",
       "\n",
       "    .dataframe tbody tr th {\n",
       "        vertical-align: top;\n",
       "    }\n",
       "\n",
       "    .dataframe thead th {\n",
       "        text-align: right;\n",
       "    }\n",
       "</style>\n",
       "<table border=\"1\" class=\"dataframe\">\n",
       "  <thead>\n",
       "    <tr style=\"text-align: right;\">\n",
       "      <th></th>\n",
       "      <th>Unnamed: 0</th>\n",
       "      <th>Film</th>\n",
       "      <th>Oscar Year</th>\n",
       "      <th>Film Studio/Producer(s)</th>\n",
       "      <th>Award</th>\n",
       "      <th>Year of Release</th>\n",
       "      <th>Movie Time</th>\n",
       "      <th>Movie Genre</th>\n",
       "      <th>IMDB Rating</th>\n",
       "      <th>IMDB Votes</th>\n",
       "      <th>...</th>\n",
       "      <th>Tomatometer Status</th>\n",
       "      <th>Tomatometer Rating</th>\n",
       "      <th>Tomatometer Count</th>\n",
       "      <th>Audience Status</th>\n",
       "      <th>Audience Rating</th>\n",
       "      <th>Audience Count</th>\n",
       "      <th>Tomatometer Top Critics Count</th>\n",
       "      <th>Tomatometer Fresh Critics Count</th>\n",
       "      <th>Tomatometer Rotten Critics Count</th>\n",
       "      <th>Film ID</th>\n",
       "    </tr>\n",
       "  </thead>\n",
       "  <tbody>\n",
       "    <tr>\n",
       "      <th>280</th>\n",
       "      <td>280</td>\n",
       "      <td>The Godfather</td>\n",
       "      <td>1972</td>\n",
       "      <td>Albert S. Ruddy</td>\n",
       "      <td>Winner</td>\n",
       "      <td>1972</td>\n",
       "      <td>175</td>\n",
       "      <td>Crime,Drama</td>\n",
       "      <td>9.2</td>\n",
       "      <td>1,697,396</td>\n",
       "      <td>...</td>\n",
       "      <td>Certified-Fresh</td>\n",
       "      <td>98.0</td>\n",
       "      <td>99.0</td>\n",
       "      <td>Upright</td>\n",
       "      <td>98.0</td>\n",
       "      <td>733939.0</td>\n",
       "      <td>24.0</td>\n",
       "      <td>97.0</td>\n",
       "      <td>2.0</td>\n",
       "      <td>fa8d4d3c-41e1-488f-a30d-715a0ff09764</td>\n",
       "    </tr>\n",
       "    <tr>\n",
       "      <th>281</th>\n",
       "      <td>281</td>\n",
       "      <td>Cabaret</td>\n",
       "      <td>1972</td>\n",
       "      <td>Cy Feuer</td>\n",
       "      <td>Nominee</td>\n",
       "      <td>1972</td>\n",
       "      <td>124</td>\n",
       "      <td>Drama,Music,Musical</td>\n",
       "      <td>7.8</td>\n",
       "      <td>51,698</td>\n",
       "      <td>...</td>\n",
       "      <td>Certified-Fresh</td>\n",
       "      <td>93.0</td>\n",
       "      <td>43.0</td>\n",
       "      <td>Upright</td>\n",
       "      <td>87.0</td>\n",
       "      <td>36098.0</td>\n",
       "      <td>8.0</td>\n",
       "      <td>40.0</td>\n",
       "      <td>3.0</td>\n",
       "      <td>e353fab3-80df-4ebd-afcd-93f70b158537</td>\n",
       "    </tr>\n",
       "    <tr>\n",
       "      <th>282</th>\n",
       "      <td>282</td>\n",
       "      <td>Deliverance</td>\n",
       "      <td>1972</td>\n",
       "      <td>John Boorman</td>\n",
       "      <td>Nominee</td>\n",
       "      <td>1972</td>\n",
       "      <td>109</td>\n",
       "      <td>Adventure,Drama,Thriller</td>\n",
       "      <td>7.7</td>\n",
       "      <td>102,934</td>\n",
       "      <td>...</td>\n",
       "      <td>Certified-Fresh</td>\n",
       "      <td>89.0</td>\n",
       "      <td>63.0</td>\n",
       "      <td>Upright</td>\n",
       "      <td>82.0</td>\n",
       "      <td>49424.0</td>\n",
       "      <td>6.0</td>\n",
       "      <td>56.0</td>\n",
       "      <td>7.0</td>\n",
       "      <td>5ab0fdff-d86a-4320-822c-33d1184f43e6</td>\n",
       "    </tr>\n",
       "    <tr>\n",
       "      <th>283</th>\n",
       "      <td>283</td>\n",
       "      <td>The Emigrants</td>\n",
       "      <td>1972</td>\n",
       "      <td>Bengt Forslund</td>\n",
       "      <td>Nominee</td>\n",
       "      <td>1971</td>\n",
       "      <td>151</td>\n",
       "      <td>Drama,History</td>\n",
       "      <td>8.0</td>\n",
       "      <td>6,121</td>\n",
       "      <td>...</td>\n",
       "      <td>NaN</td>\n",
       "      <td>NaN</td>\n",
       "      <td>NaN</td>\n",
       "      <td>NaN</td>\n",
       "      <td>NaN</td>\n",
       "      <td>NaN</td>\n",
       "      <td>NaN</td>\n",
       "      <td>NaN</td>\n",
       "      <td>NaN</td>\n",
       "      <td>ec2ca519-2209-40f8-b5e0-d1776bf1b140</td>\n",
       "    </tr>\n",
       "    <tr>\n",
       "      <th>284</th>\n",
       "      <td>284</td>\n",
       "      <td>Sounder</td>\n",
       "      <td>1972</td>\n",
       "      <td>Robert B. Radnitz</td>\n",
       "      <td>Nominee</td>\n",
       "      <td>1972</td>\n",
       "      <td>105</td>\n",
       "      <td>Drama,Family</td>\n",
       "      <td>7.6</td>\n",
       "      <td>3,920</td>\n",
       "      <td>...</td>\n",
       "      <td>NaN</td>\n",
       "      <td>NaN</td>\n",
       "      <td>NaN</td>\n",
       "      <td>NaN</td>\n",
       "      <td>NaN</td>\n",
       "      <td>NaN</td>\n",
       "      <td>NaN</td>\n",
       "      <td>NaN</td>\n",
       "      <td>NaN</td>\n",
       "      <td>6e7ed550-a733-4030-a8e4-2aaf59a245dd</td>\n",
       "    </tr>\n",
       "    <tr>\n",
       "      <th>...</th>\n",
       "      <td>...</td>\n",
       "      <td>...</td>\n",
       "      <td>...</td>\n",
       "      <td>...</td>\n",
       "      <td>...</td>\n",
       "      <td>...</td>\n",
       "      <td>...</td>\n",
       "      <td>...</td>\n",
       "      <td>...</td>\n",
       "      <td>...</td>\n",
       "      <td>...</td>\n",
       "      <td>...</td>\n",
       "      <td>...</td>\n",
       "      <td>...</td>\n",
       "      <td>...</td>\n",
       "      <td>...</td>\n",
       "      <td>...</td>\n",
       "      <td>...</td>\n",
       "      <td>...</td>\n",
       "      <td>...</td>\n",
       "      <td>...</td>\n",
       "    </tr>\n",
       "    <tr>\n",
       "      <th>566</th>\n",
       "      <td>566</td>\n",
       "      <td>Mank</td>\n",
       "      <td>2020</td>\n",
       "      <td>Ceán Chaffin, Eric Roth, and Douglas Urbanski</td>\n",
       "      <td>Nominee</td>\n",
       "      <td>2020</td>\n",
       "      <td>131</td>\n",
       "      <td>Biography,Comedy,Drama</td>\n",
       "      <td>6.9</td>\n",
       "      <td>65,380</td>\n",
       "      <td>...</td>\n",
       "      <td>NaN</td>\n",
       "      <td>NaN</td>\n",
       "      <td>NaN</td>\n",
       "      <td>NaN</td>\n",
       "      <td>NaN</td>\n",
       "      <td>NaN</td>\n",
       "      <td>NaN</td>\n",
       "      <td>NaN</td>\n",
       "      <td>NaN</td>\n",
       "      <td>47d4ae4f-e782-4cd9-9508-4a07302b1c1a</td>\n",
       "    </tr>\n",
       "    <tr>\n",
       "      <th>567</th>\n",
       "      <td>567</td>\n",
       "      <td>Minari</td>\n",
       "      <td>2020</td>\n",
       "      <td>Christina Oh</td>\n",
       "      <td>Nominee</td>\n",
       "      <td>2020</td>\n",
       "      <td>115</td>\n",
       "      <td>Drama</td>\n",
       "      <td>7.5</td>\n",
       "      <td>57,976</td>\n",
       "      <td>...</td>\n",
       "      <td>NaN</td>\n",
       "      <td>NaN</td>\n",
       "      <td>NaN</td>\n",
       "      <td>NaN</td>\n",
       "      <td>NaN</td>\n",
       "      <td>NaN</td>\n",
       "      <td>NaN</td>\n",
       "      <td>NaN</td>\n",
       "      <td>NaN</td>\n",
       "      <td>7262b3a8-214d-4205-985c-70e0860f3236</td>\n",
       "    </tr>\n",
       "    <tr>\n",
       "      <th>568</th>\n",
       "      <td>568</td>\n",
       "      <td>Promising Young Woman</td>\n",
       "      <td>2020</td>\n",
       "      <td>Ben Browning, Ashley Fox, Emerald Fennell, and...</td>\n",
       "      <td>Nominee</td>\n",
       "      <td>2020</td>\n",
       "      <td>113</td>\n",
       "      <td>Crime,Drama,Thriller</td>\n",
       "      <td>7.5</td>\n",
       "      <td>122,269</td>\n",
       "      <td>...</td>\n",
       "      <td>NaN</td>\n",
       "      <td>NaN</td>\n",
       "      <td>NaN</td>\n",
       "      <td>NaN</td>\n",
       "      <td>NaN</td>\n",
       "      <td>NaN</td>\n",
       "      <td>NaN</td>\n",
       "      <td>NaN</td>\n",
       "      <td>NaN</td>\n",
       "      <td>d64c669b-7a73-496a-bddb-19cb09264371</td>\n",
       "    </tr>\n",
       "    <tr>\n",
       "      <th>569</th>\n",
       "      <td>569</td>\n",
       "      <td>Sound of Metal</td>\n",
       "      <td>2020</td>\n",
       "      <td>Bert Hamelinck and Sacha Ben Harroche</td>\n",
       "      <td>Nominee</td>\n",
       "      <td>2019</td>\n",
       "      <td>120</td>\n",
       "      <td>Drama,Music</td>\n",
       "      <td>7.8</td>\n",
       "      <td>102,807</td>\n",
       "      <td>...</td>\n",
       "      <td>NaN</td>\n",
       "      <td>NaN</td>\n",
       "      <td>NaN</td>\n",
       "      <td>NaN</td>\n",
       "      <td>NaN</td>\n",
       "      <td>NaN</td>\n",
       "      <td>NaN</td>\n",
       "      <td>NaN</td>\n",
       "      <td>NaN</td>\n",
       "      <td>647357e9-c067-46bd-aaeb-24d4344ec124</td>\n",
       "    </tr>\n",
       "    <tr>\n",
       "      <th>570</th>\n",
       "      <td>570</td>\n",
       "      <td>The Trial of the Chicago 7</td>\n",
       "      <td>2020</td>\n",
       "      <td>Marc Platt and Stuart M. Besser</td>\n",
       "      <td>Nominee</td>\n",
       "      <td>2020</td>\n",
       "      <td>129</td>\n",
       "      <td>Drama,History,Thriller</td>\n",
       "      <td>7.8</td>\n",
       "      <td>156,283</td>\n",
       "      <td>...</td>\n",
       "      <td>NaN</td>\n",
       "      <td>NaN</td>\n",
       "      <td>NaN</td>\n",
       "      <td>NaN</td>\n",
       "      <td>NaN</td>\n",
       "      <td>NaN</td>\n",
       "      <td>NaN</td>\n",
       "      <td>NaN</td>\n",
       "      <td>NaN</td>\n",
       "      <td>cecbca48-f19c-43f4-81d2-da130facda95</td>\n",
       "    </tr>\n",
       "  </tbody>\n",
       "</table>\n",
       "<p>291 rows × 30 columns</p>\n",
       "</div>"
      ],
      "text/plain": [
       "     Unnamed: 0                        Film Oscar Year  \\\n",
       "280         280               The Godfather       1972   \n",
       "281         281                     Cabaret       1972   \n",
       "282         282                 Deliverance       1972   \n",
       "283         283               The Emigrants       1972   \n",
       "284         284                     Sounder       1972   \n",
       "..          ...                         ...        ...   \n",
       "566         566                        Mank       2020   \n",
       "567         567                      Minari       2020   \n",
       "568         568       Promising Young Woman       2020   \n",
       "569         569              Sound of Metal       2020   \n",
       "570         570  The Trial of the Chicago 7       2020   \n",
       "\n",
       "                               Film Studio/Producer(s)    Award  \\\n",
       "280                                    Albert S. Ruddy   Winner   \n",
       "281                                           Cy Feuer  Nominee   \n",
       "282                                       John Boorman  Nominee   \n",
       "283                                     Bengt Forslund  Nominee   \n",
       "284                                  Robert B. Radnitz  Nominee   \n",
       "..                                                 ...      ...   \n",
       "566      Ceán Chaffin, Eric Roth, and Douglas Urbanski  Nominee   \n",
       "567                                       Christina Oh  Nominee   \n",
       "568  Ben Browning, Ashley Fox, Emerald Fennell, and...  Nominee   \n",
       "569              Bert Hamelinck and Sacha Ben Harroche  Nominee   \n",
       "570                    Marc Platt and Stuart M. Besser  Nominee   \n",
       "\n",
       "     Year of Release  Movie Time               Movie Genre  IMDB Rating  \\\n",
       "280             1972         175               Crime,Drama          9.2   \n",
       "281             1972         124       Drama,Music,Musical          7.8   \n",
       "282             1972         109  Adventure,Drama,Thriller          7.7   \n",
       "283             1971         151             Drama,History          8.0   \n",
       "284             1972         105              Drama,Family          7.6   \n",
       "..               ...         ...                       ...          ...   \n",
       "566             2020         131    Biography,Comedy,Drama          6.9   \n",
       "567             2020         115                     Drama          7.5   \n",
       "568             2020         113      Crime,Drama,Thriller          7.5   \n",
       "569             2019         120               Drama,Music          7.8   \n",
       "570             2020         129    Drama,History,Thriller          7.8   \n",
       "\n",
       "    IMDB Votes  ... Tomatometer Status Tomatometer Rating Tomatometer Count  \\\n",
       "280  1,697,396  ...    Certified-Fresh               98.0              99.0   \n",
       "281     51,698  ...    Certified-Fresh               93.0              43.0   \n",
       "282    102,934  ...    Certified-Fresh               89.0              63.0   \n",
       "283      6,121  ...                NaN                NaN               NaN   \n",
       "284      3,920  ...                NaN                NaN               NaN   \n",
       "..         ...  ...                ...                ...               ...   \n",
       "566     65,380  ...                NaN                NaN               NaN   \n",
       "567     57,976  ...                NaN                NaN               NaN   \n",
       "568    122,269  ...                NaN                NaN               NaN   \n",
       "569    102,807  ...                NaN                NaN               NaN   \n",
       "570    156,283  ...                NaN                NaN               NaN   \n",
       "\n",
       "    Audience Status Audience Rating Audience Count  \\\n",
       "280         Upright            98.0       733939.0   \n",
       "281         Upright            87.0        36098.0   \n",
       "282         Upright            82.0        49424.0   \n",
       "283             NaN             NaN            NaN   \n",
       "284             NaN             NaN            NaN   \n",
       "..              ...             ...            ...   \n",
       "566             NaN             NaN            NaN   \n",
       "567             NaN             NaN            NaN   \n",
       "568             NaN             NaN            NaN   \n",
       "569             NaN             NaN            NaN   \n",
       "570             NaN             NaN            NaN   \n",
       "\n",
       "    Tomatometer Top Critics Count Tomatometer Fresh Critics Count  \\\n",
       "280                          24.0                            97.0   \n",
       "281                           8.0                            40.0   \n",
       "282                           6.0                            56.0   \n",
       "283                           NaN                             NaN   \n",
       "284                           NaN                             NaN   \n",
       "..                            ...                             ...   \n",
       "566                           NaN                             NaN   \n",
       "567                           NaN                             NaN   \n",
       "568                           NaN                             NaN   \n",
       "569                           NaN                             NaN   \n",
       "570                           NaN                             NaN   \n",
       "\n",
       "    Tomatometer Rotten Critics Count                               Film ID  \n",
       "280                              2.0  fa8d4d3c-41e1-488f-a30d-715a0ff09764  \n",
       "281                              3.0  e353fab3-80df-4ebd-afcd-93f70b158537  \n",
       "282                              7.0  5ab0fdff-d86a-4320-822c-33d1184f43e6  \n",
       "283                              NaN  ec2ca519-2209-40f8-b5e0-d1776bf1b140  \n",
       "284                              NaN  6e7ed550-a733-4030-a8e4-2aaf59a245dd  \n",
       "..                               ...                                   ...  \n",
       "566                              NaN  47d4ae4f-e782-4cd9-9508-4a07302b1c1a  \n",
       "567                              NaN  7262b3a8-214d-4205-985c-70e0860f3236  \n",
       "568                              NaN  d64c669b-7a73-496a-bddb-19cb09264371  \n",
       "569                              NaN  647357e9-c067-46bd-aaeb-24d4344ec124  \n",
       "570                              NaN  cecbca48-f19c-43f4-81d2-da130facda95  \n",
       "\n",
       "[291 rows x 30 columns]"
      ]
     },
     "execution_count": 177,
     "metadata": {},
     "output_type": "execute_result"
    }
   ],
   "source": [
    "df_50"
   ]
  },
  {
   "cell_type": "code",
   "execution_count": 178,
   "id": "34c24422",
   "metadata": {},
   "outputs": [
    {
     "name": "stdout",
     "output_type": "stream",
     "text": [
      "<class 'pandas.core.frame.DataFrame'>\n",
      "RangeIndex: 291 entries, 280 to 570\n",
      "Data columns (total 30 columns):\n",
      " #   Column                            Non-Null Count  Dtype  \n",
      "---  ------                            --------------  -----  \n",
      " 0   Unnamed: 0                        291 non-null    int64  \n",
      " 1   Film                              291 non-null    object \n",
      " 2   Oscar Year                        291 non-null    object \n",
      " 3   Film Studio/Producer(s)           291 non-null    object \n",
      " 4   Award                             291 non-null    object \n",
      " 5   Year of Release                   291 non-null    int64  \n",
      " 6   Movie Time                        291 non-null    int64  \n",
      " 7   Movie Genre                       291 non-null    object \n",
      " 8   IMDB Rating                       291 non-null    float64\n",
      " 9   IMDB Votes                        291 non-null    object \n",
      " 10  Movie Info                        236 non-null    object \n",
      " 11  Genres                            236 non-null    object \n",
      " 12  Critic Consensus                  233 non-null    object \n",
      " 13  Content Rating                    236 non-null    object \n",
      " 14  Directors                         235 non-null    object \n",
      " 15  Authors                           235 non-null    object \n",
      " 16  Actors                            236 non-null    object \n",
      " 17  Original Release Date             236 non-null    object \n",
      " 18  Streaming Release Date            236 non-null    object \n",
      " 19  Production Company                236 non-null    object \n",
      " 20  Tomatometer Status                236 non-null    object \n",
      " 21  Tomatometer Rating                236 non-null    float64\n",
      " 22  Tomatometer Count                 236 non-null    float64\n",
      " 23  Audience Status                   233 non-null    object \n",
      " 24  Audience Rating                   236 non-null    float64\n",
      " 25  Audience Count                    236 non-null    float64\n",
      " 26  Tomatometer Top Critics Count     236 non-null    float64\n",
      " 27  Tomatometer Fresh Critics Count   236 non-null    float64\n",
      " 28  Tomatometer Rotten Critics Count  236 non-null    float64\n",
      " 29  Film ID                           291 non-null    object \n",
      "dtypes: float64(8), int64(3), object(19)\n",
      "memory usage: 68.3+ KB\n"
     ]
    }
   ],
   "source": [
    "df_50.info()"
   ]
  },
  {
   "cell_type": "code",
   "execution_count": 179,
   "id": "1782c70a",
   "metadata": {},
   "outputs": [
    {
     "data": {
      "text/plain": [
       "William Wyler       11\n",
       "Martin Scorsese      8\n",
       "Steven Spielberg     8\n",
       "George Stevens       7\n",
       "Sam Wood             6\n",
       "Billy Wilder         5\n",
       "Frank Capra          5\n",
       "Norman Jewison       5\n",
       "Fred Zinnemann       5\n",
       "George Cukor         5\n",
       "Name: Directors, dtype: int64"
      ]
     },
     "execution_count": 179,
     "metadata": {},
     "output_type": "execute_result"
    }
   ],
   "source": [
    "#Which Directors feature the most times on the list?\n",
    "df['Directors'].value_counts().head(10)"
   ]
  },
  {
   "cell_type": "code",
   "execution_count": 170,
   "id": "4df4c10f",
   "metadata": {},
   "outputs": [],
   "source": [
    "filtwin = (df['Award']=='Winner')\n",
    "filtnom = (df['Award']=='Nominee')"
   ]
  },
  {
   "cell_type": "code",
   "execution_count": 176,
   "id": "a87393da",
   "metadata": {},
   "outputs": [
    {
     "data": {
      "text/plain": [
       "Directors           \n",
       "Milos Forman            2\n",
       "Clint Eastwood          2\n",
       "Robert Benton           1\n",
       "Oliver Stone            1\n",
       "Paul Haggis             1\n",
       "Peter Farrelly          1\n",
       "Peter Jackson           1\n",
       "Richard Attenborough    1\n",
       "Ridley Scott            1\n",
       "Rob Marshall            1\n",
       "dtype: int64"
      ]
     },
     "execution_count": 176,
     "metadata": {},
     "output_type": "execute_result"
    }
   ],
   "source": [
    "df_50.loc[filtwin,['Directors']].value_counts().head(10)"
   ]
  },
  {
   "cell_type": "code",
   "execution_count": 165,
   "id": "ce4ced9d",
   "metadata": {},
   "outputs": [
    {
     "data": {
      "text/plain": [
       "Milos Forman             2\n",
       "Clint Eastwood           2\n",
       "Francis Ford Coppola     1\n",
       "Martin Scorsese          1\n",
       "Sam Mendes               1\n",
       "Ridley Scott             1\n",
       "Ron Howard               1\n",
       "Rob Marshall             1\n",
       "Peter Jackson            1\n",
       "Paul Haggis              1\n",
       "Joel Coen, Ethan Coen    1\n",
       "James Cameron            1\n",
       "Danny Boyle              1\n",
       "Tom Hooper               1\n",
       "Michel Hazanavicius      1\n",
       "Ben Affleck              1\n",
       "Steve McQueen (III)      1\n",
       "Barry Jenkins (III)      1\n",
       "Guillermo del Toro       1\n",
       "John Madden (II)         1\n",
       "Mel Gibson               1\n",
       "Anthony Minghella        1\n",
       "George Roy Hill          1\n",
       "John G. Avildsen         1\n",
       "Woody Allen              1\n",
       "Michael Cimino           1\n",
       "Robert Benton            1\n",
       "Robert Redford           1\n",
       "Hugh Hudson              1\n",
       "Richard Attenborough     1\n",
       "James L. Brooks          1\n",
       "Sydney Pollack           1\n",
       "Oliver Stone             1\n",
       "Bernardo Bertolucci      1\n",
       "Barry Levinson           1\n",
       "Jonathan Demme           1\n",
       "Steven Spielberg         1\n",
       "Robert Zemeckis          1\n",
       "Peter Farrelly           1\n",
       "Name: Directors, dtype: int64"
      ]
     },
     "execution_count": 165,
     "metadata": {},
     "output_type": "execute_result"
    }
   ],
   "source": []
  },
  {
   "cell_type": "code",
   "execution_count": 166,
   "id": "25a0e413",
   "metadata": {},
   "outputs": [
    {
     "data": {
      "text/plain": [
       "Martin Scorsese     7\n",
       "Steven Spielberg    7\n",
       "Peter Weir          3\n",
       "David O. Russell    3\n",
       "Stephen Frears      3\n",
       "                   ..\n",
       "Rob Reiner          1\n",
       "Neil Jordan         1\n",
       "Barbra Streisand    1\n",
       "Barry Levinson      1\n",
       "Noah Baumbach       1\n",
       "Name: Directors, Length: 137, dtype: int64"
      ]
     },
     "execution_count": 166,
     "metadata": {},
     "output_type": "execute_result"
    }
   ],
   "source": [
    "nom_directors.value_counts()"
   ]
  },
  {
   "cell_type": "code",
   "execution_count": 159,
   "id": "4897e330",
   "metadata": {},
   "outputs": [],
   "source": [
    "nom_rating = df_50.loc[filtnom,['IMDB Rating']]\n",
    "win_rating = df_50.loc[filtwin,['IMDB Rating']]"
   ]
  },
  {
   "cell_type": "code",
   "execution_count": 133,
   "id": "4cdcf03a",
   "metadata": {},
   "outputs": [
    {
     "data": {
      "text/plain": [
       "IMDB Rating    7.52914\n",
       "dtype: float64"
      ]
     },
     "execution_count": 133,
     "metadata": {},
     "output_type": "execute_result"
    }
   ],
   "source": [
    "pd.DataFrame.mean(nom_rating) "
   ]
  },
  {
   "cell_type": "code",
   "execution_count": 134,
   "id": "cb932db7",
   "metadata": {},
   "outputs": [
    {
     "data": {
      "text/plain": [
       "IMDB Rating    7.779787\n",
       "dtype: float64"
      ]
     },
     "execution_count": 134,
     "metadata": {},
     "output_type": "execute_result"
    }
   ],
   "source": [
    "pd.DataFrame.mean(win_rating)"
   ]
  },
  {
   "cell_type": "code",
   "execution_count": null,
   "id": "41e55760",
   "metadata": {},
   "outputs": [],
   "source": [
    "#Winning Films have an average 0.34 higher point rating than Nominees and are on 11 minutes longer on average"
   ]
  },
  {
   "cell_type": "code",
   "execution_count": 135,
   "id": "98e8d235",
   "metadata": {},
   "outputs": [],
   "source": [
    "nom_length = df.loc[filtnom,['Movie Time']]\n",
    "win_length = df.loc[filtwin,['Movie Time']]"
   ]
  },
  {
   "cell_type": "code",
   "execution_count": 136,
   "id": "ffc604e1",
   "metadata": {},
   "outputs": [
    {
     "data": {
      "text/plain": [
       "Movie Time    122.259958\n",
       "dtype: float64"
      ]
     },
     "execution_count": 136,
     "metadata": {},
     "output_type": "execute_result"
    }
   ],
   "source": [
    "pd.DataFrame.mean(nom_length)"
   ]
  },
  {
   "cell_type": "code",
   "execution_count": 137,
   "id": "54c5f81b",
   "metadata": {},
   "outputs": [
    {
     "data": {
      "text/plain": [
       "Movie Time    138.265957\n",
       "dtype: float64"
      ]
     },
     "execution_count": 137,
     "metadata": {},
     "output_type": "execute_result"
    }
   ],
   "source": [
    "pd.DataFrame.mean(win_length)"
   ]
  },
  {
   "cell_type": "code",
   "execution_count": 74,
   "id": "5d1066e9",
   "metadata": {},
   "outputs": [],
   "source": [
    "nom_directors = last_50_years.loc[filtnom,'Directors']\n",
    "win_directors = last_50_years.loc[filtwin,'Directors']"
   ]
  },
  {
   "cell_type": "code",
   "execution_count": 58,
   "id": "7053842c",
   "metadata": {},
   "outputs": [
    {
     "data": {
      "text/plain": [
       "Martin Scorsese     7\n",
       "Steven Spielberg    7\n",
       "Peter Weir          3\n",
       "David O. Russell    3\n",
       "Stephen Frears      3\n",
       "                   ..\n",
       "Rob Reiner          1\n",
       "Neil Jordan         1\n",
       "Barbra Streisand    1\n",
       "Barry Levinson      1\n",
       "Noah Baumbach       1\n",
       "Name: Directors, Length: 137, dtype: int64"
      ]
     },
     "execution_count": 58,
     "metadata": {},
     "output_type": "execute_result"
    }
   ],
   "source": [
    "nom_directors.value_counts()"
   ]
  },
  {
   "cell_type": "code",
   "execution_count": 59,
   "id": "b563bdf1",
   "metadata": {},
   "outputs": [
    {
     "data": {
      "text/plain": [
       "Milos Forman             2\n",
       "Clint Eastwood           2\n",
       "Francis Ford Coppola     1\n",
       "Martin Scorsese          1\n",
       "Sam Mendes               1\n",
       "Ridley Scott             1\n",
       "Ron Howard               1\n",
       "Rob Marshall             1\n",
       "Peter Jackson            1\n",
       "Paul Haggis              1\n",
       "Joel Coen, Ethan Coen    1\n",
       "James Cameron            1\n",
       "Danny Boyle              1\n",
       "Tom Hooper               1\n",
       "Michel Hazanavicius      1\n",
       "Ben Affleck              1\n",
       "Steve McQueen (III)      1\n",
       "Barry Jenkins (III)      1\n",
       "Guillermo del Toro       1\n",
       "John Madden (II)         1\n",
       "Mel Gibson               1\n",
       "Anthony Minghella        1\n",
       "George Roy Hill          1\n",
       "John G. Avildsen         1\n",
       "Woody Allen              1\n",
       "Michael Cimino           1\n",
       "Robert Benton            1\n",
       "Robert Redford           1\n",
       "Hugh Hudson              1\n",
       "Richard Attenborough     1\n",
       "James L. Brooks          1\n",
       "Sydney Pollack           1\n",
       "Oliver Stone             1\n",
       "Bernardo Bertolucci      1\n",
       "Barry Levinson           1\n",
       "Jonathan Demme           1\n",
       "Steven Spielberg         1\n",
       "Robert Zemeckis          1\n",
       "Peter Farrelly           1\n",
       "Name: Directors, dtype: int64"
      ]
     },
     "execution_count": 59,
     "metadata": {},
     "output_type": "execute_result"
    }
   ],
   "source": [
    "win_directors.value_counts()"
   ]
  },
  {
   "cell_type": "code",
   "execution_count": null,
   "id": "9199ae98",
   "metadata": {},
   "outputs": [],
   "source": []
  },
  {
   "cell_type": "code",
   "execution_count": null,
   "id": "550014b1",
   "metadata": {},
   "outputs": [],
   "source": []
  },
  {
   "cell_type": "code",
   "execution_count": null,
   "id": "aa39086e",
   "metadata": {},
   "outputs": [],
   "source": []
  },
  {
   "cell_type": "code",
   "execution_count": null,
   "id": "9afb0818",
   "metadata": {},
   "outputs": [],
   "source": []
  },
  {
   "cell_type": "code",
   "execution_count": null,
   "id": "7972eb9f",
   "metadata": {},
   "outputs": [],
   "source": []
  },
  {
   "cell_type": "code",
   "execution_count": 121,
   "id": "99e33bab",
   "metadata": {},
   "outputs": [
    {
     "data": {
      "text/plain": [
       "<AxesSubplot:xlabel='Oscar Year', ylabel='IMDB Rating'>"
      ]
     },
     "execution_count": 121,
     "metadata": {},
     "output_type": "execute_result"
    },
    {
     "data": {
      "image/png": "[encoded data removed]",
      "text/plain": [
       "<Figure size 432x288 with 1 Axes>"
      ]
     },
     "metadata": {
      "needs_background": "light"
     },
     "output_type": "display_data"
    }
   ],
   "source": [
    "sns.stripplot(x=\"Oscar Year\", y=\"IMDB Rating\", data = last_50_years, hue = \"Award\")"
   ]
  },
  {
   "cell_type": "code",
   "execution_count": 153,
   "id": "dedf7baa",
   "metadata": {},
   "outputs": [
    {
     "data": {
      "text/plain": [
       "<AxesSubplot:xlabel='Oscar Year', ylabel='Movie Time'>"
      ]
     },
     "execution_count": 153,
     "metadata": {},
     "output_type": "execute_result"
    },
    {
     "data": {
      "image/png": "[encoded data removed]",
      "text/plain": [
       "<Figure size 432x288 with 1 Axes>"
      ]
     },
     "metadata": {
      "needs_background": "light"
     },
     "output_type": "display_data"
    }
   ],
   "source": [
    "sns.set()\n",
    "%matplotlib inline\n",
    "# Later in the course I shall explain why above 2 lines of code have been added.\n",
    "\n",
    "sns.stripplot(x=\"Oscar Year\", y=\"Movie Time\", data=last_50_years, hue = \"Award\")"
   ]
  },
  {
   "cell_type": "code",
   "execution_count": 69,
   "id": "75a259bf",
   "metadata": {},
   "outputs": [
    {
     "data": {
      "image/png": "[encoded data removed]",
      "text/plain": [
       "<Figure size 443.85x360 with 1 Axes>"
      ]
     },
     "metadata": {
      "needs_background": "light"
     },
     "output_type": "display_data"
    }
   ],
   "source": [
    "sns.relplot(x=\"Oscar Year\", y=\"IMDB Rating\", hue=\"Award\", data=last_50_years);"
   ]
  },
  {
   "cell_type": "code",
   "execution_count": 146,
   "id": "5a2a377f",
   "metadata": {},
   "outputs": [
    {
     "data": {
      "image/png": "[encoded data removed]",
      "text/plain": [
       "<Figure size 432x288 with 1 Axes>"
      ]
     },
     "metadata": {},
     "output_type": "display_data"
    }
   ],
   "source": [
    "sns.set_theme(style=\"whitegrid\")\n",
    "ax = sns.barplot(x=\"Oscar Year\", y=\"Movie Time\", data=df)"
   ]
  },
  {
   "cell_type": "code",
   "execution_count": 71,
   "id": "f3a9ee49",
   "metadata": {},
   "outputs": [
    {
     "data": {
      "image/png": "[encoded data removed]",
      "text/plain": [
       "<Figure size 432x288 with 1 Axes>"
      ]
     },
     "metadata": {},
     "output_type": "display_data"
    }
   ],
   "source": [
    "sns.set_theme(style=\"whitegrid\")\n",
    "ax = sns.barplot(x=\"Oscar Year\", y=\"Movie Time\", data=df)"
   ]
  },
  {
   "cell_type": "code",
   "execution_count": 149,
   "id": "5b0799af",
   "metadata": {},
   "outputs": [
    {
     "name": "stderr",
     "output_type": "stream",
     "text": [
      "*c* argument looks like a single numeric RGB or RGBA sequence, which should be avoided as value-mapping will have precedence in case its length matches with *x* & *y*.  Please use the *color* keyword-argument or provide a 2D array with a single row if you intend to specify the same RGB or RGBA value for all points.\n"
     ]
    },
    {
     "data": {
      "image/png": "[encoded data removed]",
      "text/plain": [
       "<Figure size 432x288 with 1 Axes>"
      ]
     },
     "metadata": {},
     "output_type": "display_data"
    }
   ],
   "source": [
    "ax = df.plot.scatter(x=\"Oscar Year\", y=\"Movie Time\", style='b')"
   ]
  },
  {
   "cell_type": "code",
   "execution_count": null,
   "id": "5c1f5c70",
   "metadata": {},
   "outputs": [],
   "source": []
  },
  {
   "cell_type": "code",
   "execution_count": null,
   "id": "4c7b6ea5",
   "metadata": {},
   "outputs": [],
   "source": []
  },
  {
   "cell_type": "code",
   "execution_count": null,
   "id": "27c8a0e5",
   "metadata": {},
   "outputs": [],
   "source": []
  },
  {
   "cell_type": "raw",
   "id": "bf3ea328",
   "metadata": {},
   "source": []
  },
  {
   "cell_type": "code",
   "execution_count": null,
   "id": "d1c9298a",
   "metadata": {},
   "outputs": [],
   "source": []
  },
  {
   "cell_type": "code",
   "execution_count": null,
   "id": "b09d3820",
   "metadata": {},
   "outputs": [],
   "source": []
  },
  {
   "cell_type": "code",
   "execution_count": null,
   "id": "f83310dc",
   "metadata": {},
   "outputs": [],
   "source": []
  },
  {
   "cell_type": "code",
   "execution_count": null,
   "id": "75f7e12d",
   "metadata": {},
   "outputs": [],
   "source": []
  }
 ],
 "metadata": {
  "kernelspec": {
   "display_name": "Python 3 (ipykernel)",
   "language": "python",
   "name": "python3"
  },
  "language_info": {
   "codemirror_mode": {
    "name": "ipython",
    "version": 3
   },
   "file_extension": ".py",
   "mimetype": "text/x-python",
   "name": "python",
   "nbconvert_exporter": "python",
   "pygments_lexer": "ipython3",
   "version": "3.9.12"
  }
 },
 "nbformat": 4,
 "nbformat_minor": 5
}
