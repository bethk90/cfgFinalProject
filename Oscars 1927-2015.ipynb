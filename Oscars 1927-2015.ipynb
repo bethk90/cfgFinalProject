{
 "cells": [
  {
   "cell_type": "code",
   "execution_count": 246,
   "id": "68ba80e6",
   "metadata": {},
   "outputs": [],
   "source": [
    "import pandas as pd\n",
    "import matplotlib.pyplot as plt\n",
    "import seaborn as sns"
   ]
  },
  {
   "cell_type": "code",
   "execution_count": 247,
   "id": "5a4dfef9",
   "metadata": {},
   "outputs": [],
   "source": [
    "df = pd.read_csv('the_oscar_award.csv') #Import Oscars Dataset"
   ]
  },
  {
   "cell_type": "code",
   "execution_count": 248,
   "id": "552d440d",
   "metadata": {},
   "outputs": [
    {
     "data": {
      "text/html": [
       "<div>\n",
       "<style scoped>\n",
       "    .dataframe tbody tr th:only-of-type {\n",
       "        vertical-align: middle;\n",
       "    }\n",
       "\n",
       "    .dataframe tbody tr th {\n",
       "        vertical-align: top;\n",
       "    }\n",
       "\n",
       "    .dataframe thead th {\n",
       "        text-align: right;\n",
       "    }\n",
       "</style>\n",
       "<table border=\"1\" class=\"dataframe\">\n",
       "  <thead>\n",
       "    <tr style=\"text-align: right;\">\n",
       "      <th></th>\n",
       "      <th>year_film</th>\n",
       "      <th>year_ceremony</th>\n",
       "      <th>ceremony</th>\n",
       "      <th>category</th>\n",
       "      <th>name</th>\n",
       "      <th>film</th>\n",
       "      <th>winner</th>\n",
       "    </tr>\n",
       "  </thead>\n",
       "  <tbody>\n",
       "    <tr>\n",
       "      <th>0</th>\n",
       "      <td>1927</td>\n",
       "      <td>1928</td>\n",
       "      <td>1</td>\n",
       "      <td>ACTOR</td>\n",
       "      <td>Richard Barthelmess</td>\n",
       "      <td>The Noose</td>\n",
       "      <td>False</td>\n",
       "    </tr>\n",
       "    <tr>\n",
       "      <th>1</th>\n",
       "      <td>1927</td>\n",
       "      <td>1928</td>\n",
       "      <td>1</td>\n",
       "      <td>ACTOR</td>\n",
       "      <td>Emil Jannings</td>\n",
       "      <td>The Last Command</td>\n",
       "      <td>True</td>\n",
       "    </tr>\n",
       "    <tr>\n",
       "      <th>2</th>\n",
       "      <td>1927</td>\n",
       "      <td>1928</td>\n",
       "      <td>1</td>\n",
       "      <td>ACTRESS</td>\n",
       "      <td>Louise Dresser</td>\n",
       "      <td>A Ship Comes In</td>\n",
       "      <td>False</td>\n",
       "    </tr>\n",
       "    <tr>\n",
       "      <th>3</th>\n",
       "      <td>1927</td>\n",
       "      <td>1928</td>\n",
       "      <td>1</td>\n",
       "      <td>ACTRESS</td>\n",
       "      <td>Janet Gaynor</td>\n",
       "      <td>7th Heaven</td>\n",
       "      <td>True</td>\n",
       "    </tr>\n",
       "    <tr>\n",
       "      <th>4</th>\n",
       "      <td>1927</td>\n",
       "      <td>1928</td>\n",
       "      <td>1</td>\n",
       "      <td>ACTRESS</td>\n",
       "      <td>Gloria Swanson</td>\n",
       "      <td>Sadie Thompson</td>\n",
       "      <td>False</td>\n",
       "    </tr>\n",
       "    <tr>\n",
       "      <th>...</th>\n",
       "      <td>...</td>\n",
       "      <td>...</td>\n",
       "      <td>...</td>\n",
       "      <td>...</td>\n",
       "      <td>...</td>\n",
       "      <td>...</td>\n",
       "      <td>...</td>\n",
       "    </tr>\n",
       "    <tr>\n",
       "      <th>10390</th>\n",
       "      <td>2019</td>\n",
       "      <td>2020</td>\n",
       "      <td>92</td>\n",
       "      <td>WRITING (Original Screenplay)</td>\n",
       "      <td>Screenplay by Bong Joon Ho, Han Jin Won; Story...</td>\n",
       "      <td>Parasite</td>\n",
       "      <td>True</td>\n",
       "    </tr>\n",
       "    <tr>\n",
       "      <th>10391</th>\n",
       "      <td>2019</td>\n",
       "      <td>2020</td>\n",
       "      <td>92</td>\n",
       "      <td>JEAN HERSHOLT HUMANITARIAN AWARD</td>\n",
       "      <td>Geena Davis</td>\n",
       "      <td>NaN</td>\n",
       "      <td>True</td>\n",
       "    </tr>\n",
       "    <tr>\n",
       "      <th>10392</th>\n",
       "      <td>2019</td>\n",
       "      <td>2020</td>\n",
       "      <td>92</td>\n",
       "      <td>HONORARY AWARD</td>\n",
       "      <td>David Lynch</td>\n",
       "      <td>NaN</td>\n",
       "      <td>True</td>\n",
       "    </tr>\n",
       "    <tr>\n",
       "      <th>10393</th>\n",
       "      <td>2019</td>\n",
       "      <td>2020</td>\n",
       "      <td>92</td>\n",
       "      <td>HONORARY AWARD</td>\n",
       "      <td>Wes Studi</td>\n",
       "      <td>NaN</td>\n",
       "      <td>True</td>\n",
       "    </tr>\n",
       "    <tr>\n",
       "      <th>10394</th>\n",
       "      <td>2019</td>\n",
       "      <td>2020</td>\n",
       "      <td>92</td>\n",
       "      <td>HONORARY AWARD</td>\n",
       "      <td>Lina Wertmüller</td>\n",
       "      <td>NaN</td>\n",
       "      <td>True</td>\n",
       "    </tr>\n",
       "  </tbody>\n",
       "</table>\n",
       "<p>10395 rows × 7 columns</p>\n",
       "</div>"
      ],
      "text/plain": [
       "       year_film  year_ceremony  ceremony                          category  \\\n",
       "0           1927           1928         1                             ACTOR   \n",
       "1           1927           1928         1                             ACTOR   \n",
       "2           1927           1928         1                           ACTRESS   \n",
       "3           1927           1928         1                           ACTRESS   \n",
       "4           1927           1928         1                           ACTRESS   \n",
       "...          ...            ...       ...                               ...   \n",
       "10390       2019           2020        92     WRITING (Original Screenplay)   \n",
       "10391       2019           2020        92  JEAN HERSHOLT HUMANITARIAN AWARD   \n",
       "10392       2019           2020        92                    HONORARY AWARD   \n",
       "10393       2019           2020        92                    HONORARY AWARD   \n",
       "10394       2019           2020        92                    HONORARY AWARD   \n",
       "\n",
       "                                                    name              film  \\\n",
       "0                                    Richard Barthelmess         The Noose   \n",
       "1                                          Emil Jannings  The Last Command   \n",
       "2                                         Louise Dresser   A Ship Comes In   \n",
       "3                                           Janet Gaynor        7th Heaven   \n",
       "4                                         Gloria Swanson    Sadie Thompson   \n",
       "...                                                  ...               ...   \n",
       "10390  Screenplay by Bong Joon Ho, Han Jin Won; Story...          Parasite   \n",
       "10391                                        Geena Davis               NaN   \n",
       "10392                                        David Lynch               NaN   \n",
       "10393                                          Wes Studi               NaN   \n",
       "10394                                    Lina Wertmüller               NaN   \n",
       "\n",
       "       winner  \n",
       "0       False  \n",
       "1        True  \n",
       "2       False  \n",
       "3        True  \n",
       "4       False  \n",
       "...       ...  \n",
       "10390    True  \n",
       "10391    True  \n",
       "10392    True  \n",
       "10393    True  \n",
       "10394    True  \n",
       "\n",
       "[10395 rows x 7 columns]"
      ]
     },
     "execution_count": 248,
     "metadata": {},
     "output_type": "execute_result"
    }
   ],
   "source": [
    "df"
   ]
  },
  {
   "cell_type": "code",
   "execution_count": 249,
   "id": "3b73f269",
   "metadata": {},
   "outputs": [
    {
     "name": "stdout",
     "output_type": "stream",
     "text": [
      "<class 'pandas.core.frame.DataFrame'>\n",
      "RangeIndex: 10395 entries, 0 to 10394\n",
      "Data columns (total 7 columns):\n",
      " #   Column         Non-Null Count  Dtype \n",
      "---  ------         --------------  ----- \n",
      " 0   year_film      10395 non-null  int64 \n",
      " 1   year_ceremony  10395 non-null  int64 \n",
      " 2   ceremony       10395 non-null  int64 \n",
      " 3   category       10395 non-null  object\n",
      " 4   name           10395 non-null  object\n",
      " 5   film           10091 non-null  object\n",
      " 6   winner         10395 non-null  bool  \n",
      "dtypes: bool(1), int64(3), object(3)\n",
      "memory usage: 497.5+ KB\n"
     ]
    }
   ],
   "source": [
    "df.info()"
   ]
  },
  {
   "cell_type": "code",
   "execution_count": 250,
   "id": "cd437ca5",
   "metadata": {},
   "outputs": [],
   "source": [
    "#Create filters\n",
    "actors = (df['category']=='ACTOR')\n",
    "actresses = (df['category']=='ACTRESS')\n",
    "directors = (df['category']=='DIRECTING')\n",
    "filtwin = (df['winner']==True)"
   ]
  },
  {
   "cell_type": "code",
   "execution_count": 251,
   "id": "d85cbc49",
   "metadata": {},
   "outputs": [
    {
     "data": {
      "text/plain": [
       "name            \n",
       "Spencer Tracy       9\n",
       "Laurence Olivier    7\n",
       "Marlon Brando       7\n",
       "Paul Muni           6\n",
       "Peter O'Toole       5\n",
       "dtype: int64"
      ]
     },
     "execution_count": 251,
     "metadata": {},
     "output_type": "execute_result"
    }
   ],
   "source": [
    "actor_count = df.loc[actors,['name']].value_counts().head(5)\n",
    "actor_count #Actors that appear the most on the list"
   ]
  },
  {
   "cell_type": "code",
   "execution_count": 252,
   "id": "1acd367d",
   "metadata": {},
   "outputs": [
    {
     "data": {
      "text/plain": [
       "name             \n",
       "Katharine Hepburn    11\n",
       "Bette Davis          11\n",
       "Greer Garson          7\n",
       "Norma Shearer         6\n",
       "Deborah Kerr          6\n",
       "dtype: int64"
      ]
     },
     "execution_count": 252,
     "metadata": {},
     "output_type": "execute_result"
    }
   ],
   "source": [
    "actress_count = df.loc[actresses,['name']].value_counts().head(5)\n",
    "actress_count #Actresses that appear the most on the list"
   ]
  },
  {
   "cell_type": "code",
   "execution_count": 253,
   "id": "5af6628a",
   "metadata": {},
   "outputs": [
    {
     "data": {
      "text/plain": [
       "A Star Is Born          25\n",
       "Titanic                 16\n",
       "Moulin Rouge            15\n",
       "Mutiny on the Bounty    15\n",
       "La La Land              14\n",
       "Name: film, dtype: int64"
      ]
     },
     "execution_count": 253,
     "metadata": {},
     "output_type": "execute_result"
    }
   ],
   "source": [
    "film_count = df['film'].value_counts().head(5)\n",
    "film_count #Films that appear the most times on the list"
   ]
  },
  {
   "cell_type": "code",
   "execution_count": 254,
   "id": "26c4f306",
   "metadata": {},
   "outputs": [
    {
     "data": {
      "text/plain": [
       "(array([0, 1, 2, 3, 4]),\n",
       " [Text(0, 0, 'A Star Is Born'),\n",
       "  Text(1, 0, 'Titanic'),\n",
       "  Text(2, 0, 'Moulin Rouge'),\n",
       "  Text(3, 0, 'Mutiny on the Bounty'),\n",
       "  Text(4, 0, 'La La Land')])"
      ]
     },
     "execution_count": 254,
     "metadata": {},
     "output_type": "execute_result"
    },
    {
     "data": {
      "image/png": "[encoded data removed]",
      "text/plain": [
       "<Figure size 432x288 with 1 Axes>"
      ]
     },
     "metadata": {
      "needs_background": "light"
     },
     "output_type": "display_data"
    }
   ],
   "source": [
    "c = ['#003f5c', '#58508d', '#bc5090', '#ff6361', '#ffa600']\n",
    "film_count.plot(kind=\"bar\", title = \"Films\", color = c)\n",
    "\n",
    "plt.title(\"Films\")\n",
    "plt.xlabel(\"Name\")\n",
    "plt.ylabel(\"Awards Won\")\n",
    "plt.xticks(horizontalalignment=\"center\")"
   ]
  },
  {
   "cell_type": "code",
   "execution_count": 255,
   "id": "e0fb4d5c",
   "metadata": {},
   "outputs": [
    {
     "data": {
      "text/plain": [
       "film                                         \n",
       "Titanic                                          12\n",
       "The Lord of the Rings: The Return of the King    11\n",
       "Ben-Hur                                          11\n",
       "West Side Story                                  10\n",
       "Gigi                                              9\n",
       "dtype: int64"
      ]
     },
     "execution_count": 255,
     "metadata": {},
     "output_type": "execute_result"
    }
   ],
   "source": [
    "film_win_count = df.loc[filtwin,['film']].value_counts().head(5)\n",
    "film_win_count #Films that won the most awards"
   ]
  },
  {
   "cell_type": "code",
   "execution_count": 256,
   "id": "23099e80",
   "metadata": {},
   "outputs": [
    {
     "data": {
      "text/plain": [
       "(array([0, 1, 2, 3, 4]),\n",
       " [Text(0, 0, '(Titanic,)'),\n",
       "  Text(1, 0, '(The Lord of the Rings: The Return of the King,)'),\n",
       "  Text(2, 0, '(Ben-Hur,)'),\n",
       "  Text(3, 0, '(West Side Story,)'),\n",
       "  Text(4, 0, '(Gigi,)')])"
      ]
     },
     "execution_count": 256,
     "metadata": {},
     "output_type": "execute_result"
    },
    {
     "data": {
      "image/png": "[encoded data removed]",
      "text/plain": [
       "<Figure size 432x288 with 1 Axes>"
      ]
     },
     "metadata": {
      "needs_background": "light"
     },
     "output_type": "display_data"
    }
   ],
   "source": [
    "c = ['#003f5c', '#58508d', '#bc5090', '#ff6361', '#ffa600']\n",
    "film_win_count.plot(kind=\"bar\", title = \"Films\", color = c)\n",
    "\n",
    "plt.title(\"Films\")\n",
    "plt.xlabel(\"Name\")\n",
    "plt.ylabel(\"Awards Won\")\n",
    "plt.xticks(horizontalalignment=\"center\")"
   ]
  },
  {
   "cell_type": "code",
   "execution_count": null,
   "id": "30053fbb",
   "metadata": {},
   "outputs": [],
   "source": []
  },
  {
   "cell_type": "code",
   "execution_count": null,
   "id": "fabd5590",
   "metadata": {},
   "outputs": [],
   "source": []
  }
 ],
 "metadata": {
  "kernelspec": {
   "display_name": "Python 3 (ipykernel)",
   "language": "python",
   "name": "python3"
  },
  "language_info": {
   "codemirror_mode": {
    "name": "ipython",
    "version": 3
   },
   "file_extension": ".py",
   "mimetype": "text/x-python",
   "name": "python",
   "nbconvert_exporter": "python",
   "pygments_lexer": "ipython3",
   "version": "3.9.12"
  }
 },
 "nbformat": 4,
 "nbformat_minor": 5
}
