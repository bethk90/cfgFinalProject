{
 "cells": [
  {
   "cell_type": "code",
   "execution_count": 261,
   "id": "704714c5",
   "metadata": {},
   "outputs": [],
   "source": [
    "import pandas as pd\n",
    "import matplotlib.pyplot as plt\n",
    "import seaborn as sns"
   ]
  },
  {
   "cell_type": "code",
   "execution_count": 262,
   "id": "f40ad19d",
   "metadata": {},
   "outputs": [],
   "source": [
    "#df = pd.read_csv('oscars_df.csv',index_col='Film')\n",
    "df = pd.read_csv('oscars_df.csv')"
   ]
  },
  {
   "cell_type": "code",
   "execution_count": 263,
   "id": "91c4311a",
   "metadata": {},
   "outputs": [],
   "source": [
    "df.at[563,'Award']='Winner'"
   ]
  },
  {
   "cell_type": "code",
   "execution_count": 264,
   "id": "056100a2",
   "metadata": {},
   "outputs": [
    {
     "data": {
      "text/html": [
       "<div>\n",
       "<style scoped>\n",
       "    .dataframe tbody tr th:only-of-type {\n",
       "        vertical-align: middle;\n",
       "    }\n",
       "\n",
       "    .dataframe tbody tr th {\n",
       "        vertical-align: top;\n",
       "    }\n",
       "\n",
       "    .dataframe thead th {\n",
       "        text-align: right;\n",
       "    }\n",
       "</style>\n",
       "<table border=\"1\" class=\"dataframe\">\n",
       "  <thead>\n",
       "    <tr style=\"text-align: right;\">\n",
       "      <th></th>\n",
       "      <th>Unnamed: 0</th>\n",
       "      <th>Year of Release</th>\n",
       "      <th>Movie Time</th>\n",
       "      <th>IMDB Rating</th>\n",
       "      <th>Tomatometer Rating</th>\n",
       "      <th>Tomatometer Count</th>\n",
       "      <th>Audience Rating</th>\n",
       "      <th>Audience Count</th>\n",
       "      <th>Tomatometer Top Critics Count</th>\n",
       "      <th>Tomatometer Fresh Critics Count</th>\n",
       "      <th>Tomatometer Rotten Critics Count</th>\n",
       "    </tr>\n",
       "  </thead>\n",
       "  <tbody>\n",
       "    <tr>\n",
       "      <th>count</th>\n",
       "      <td>571.000000</td>\n",
       "      <td>571.000000</td>\n",
       "      <td>571.000000</td>\n",
       "      <td>571.000000</td>\n",
       "      <td>439.000000</td>\n",
       "      <td>439.000000</td>\n",
       "      <td>439.000000</td>\n",
       "      <td>4.390000e+02</td>\n",
       "      <td>439.000000</td>\n",
       "      <td>439.000000</td>\n",
       "      <td>439.000000</td>\n",
       "    </tr>\n",
       "    <tr>\n",
       "      <th>mean</th>\n",
       "      <td>285.000000</td>\n",
       "      <td>1973.357268</td>\n",
       "      <td>124.894921</td>\n",
       "      <td>7.570403</td>\n",
       "      <td>87.503417</td>\n",
       "      <td>110.697039</td>\n",
       "      <td>82.428246</td>\n",
       "      <td>5.154145e+05</td>\n",
       "      <td>21.861048</td>\n",
       "      <td>98.471526</td>\n",
       "      <td>12.275626</td>\n",
       "    </tr>\n",
       "    <tr>\n",
       "      <th>std</th>\n",
       "      <td>164.977776</td>\n",
       "      <td>29.315738</td>\n",
       "      <td>26.322817</td>\n",
       "      <td>0.559652</td>\n",
       "      <td>11.690622</td>\n",
       "      <td>119.541406</td>\n",
       "      <td>10.927897</td>\n",
       "      <td>3.623107e+06</td>\n",
       "      <td>21.615492</td>\n",
       "      <td>107.798554</td>\n",
       "      <td>19.310232</td>\n",
       "    </tr>\n",
       "    <tr>\n",
       "      <th>min</th>\n",
       "      <td>0.000000</td>\n",
       "      <td>1927.000000</td>\n",
       "      <td>66.000000</td>\n",
       "      <td>5.600000</td>\n",
       "      <td>29.000000</td>\n",
       "      <td>5.000000</td>\n",
       "      <td>21.000000</td>\n",
       "      <td>6.000000e+00</td>\n",
       "      <td>0.000000</td>\n",
       "      <td>3.000000</td>\n",
       "      <td>0.000000</td>\n",
       "    </tr>\n",
       "    <tr>\n",
       "      <th>25%</th>\n",
       "      <td>142.500000</td>\n",
       "      <td>1944.000000</td>\n",
       "      <td>107.000000</td>\n",
       "      <td>7.300000</td>\n",
       "      <td>84.000000</td>\n",
       "      <td>25.000000</td>\n",
       "      <td>78.000000</td>\n",
       "      <td>6.637500e+03</td>\n",
       "      <td>5.000000</td>\n",
       "      <td>21.500000</td>\n",
       "      <td>2.000000</td>\n",
       "    </tr>\n",
       "    <tr>\n",
       "      <th>50%</th>\n",
       "      <td>285.000000</td>\n",
       "      <td>1972.000000</td>\n",
       "      <td>121.000000</td>\n",
       "      <td>7.600000</td>\n",
       "      <td>91.000000</td>\n",
       "      <td>54.000000</td>\n",
       "      <td>85.000000</td>\n",
       "      <td>3.716600e+04</td>\n",
       "      <td>11.000000</td>\n",
       "      <td>49.000000</td>\n",
       "      <td>5.000000</td>\n",
       "    </tr>\n",
       "    <tr>\n",
       "      <th>75%</th>\n",
       "      <td>427.500000</td>\n",
       "      <td>2001.000000</td>\n",
       "      <td>136.500000</td>\n",
       "      <td>7.900000</td>\n",
       "      <td>95.000000</td>\n",
       "      <td>199.000000</td>\n",
       "      <td>90.000000</td>\n",
       "      <td>1.255365e+05</td>\n",
       "      <td>45.000000</td>\n",
       "      <td>163.500000</td>\n",
       "      <td>15.000000</td>\n",
       "    </tr>\n",
       "    <tr>\n",
       "      <th>max</th>\n",
       "      <td>570.000000</td>\n",
       "      <td>2021.000000</td>\n",
       "      <td>238.000000</td>\n",
       "      <td>9.300000</td>\n",
       "      <td>100.000000</td>\n",
       "      <td>574.000000</td>\n",
       "      <td>98.000000</td>\n",
       "      <td>3.579764e+07</td>\n",
       "      <td>69.000000</td>\n",
       "      <td>495.000000</td>\n",
       "      <td>182.000000</td>\n",
       "    </tr>\n",
       "  </tbody>\n",
       "</table>\n",
       "</div>"
      ],
      "text/plain": [
       "       Unnamed: 0  Year of Release  Movie Time  IMDB Rating  \\\n",
       "count  571.000000       571.000000  571.000000   571.000000   \n",
       "mean   285.000000      1973.357268  124.894921     7.570403   \n",
       "std    164.977776        29.315738   26.322817     0.559652   \n",
       "min      0.000000      1927.000000   66.000000     5.600000   \n",
       "25%    142.500000      1944.000000  107.000000     7.300000   \n",
       "50%    285.000000      1972.000000  121.000000     7.600000   \n",
       "75%    427.500000      2001.000000  136.500000     7.900000   \n",
       "max    570.000000      2021.000000  238.000000     9.300000   \n",
       "\n",
       "       Tomatometer Rating  Tomatometer Count  Audience Rating  Audience Count  \\\n",
       "count          439.000000         439.000000       439.000000    4.390000e+02   \n",
       "mean            87.503417         110.697039        82.428246    5.154145e+05   \n",
       "std             11.690622         119.541406        10.927897    3.623107e+06   \n",
       "min             29.000000           5.000000        21.000000    6.000000e+00   \n",
       "25%             84.000000          25.000000        78.000000    6.637500e+03   \n",
       "50%             91.000000          54.000000        85.000000    3.716600e+04   \n",
       "75%             95.000000         199.000000        90.000000    1.255365e+05   \n",
       "max            100.000000         574.000000        98.000000    3.579764e+07   \n",
       "\n",
       "       Tomatometer Top Critics Count  Tomatometer Fresh Critics Count  \\\n",
       "count                     439.000000                       439.000000   \n",
       "mean                       21.861048                        98.471526   \n",
       "std                        21.615492                       107.798554   \n",
       "min                         0.000000                         3.000000   \n",
       "25%                         5.000000                        21.500000   \n",
       "50%                        11.000000                        49.000000   \n",
       "75%                        45.000000                       163.500000   \n",
       "max                        69.000000                       495.000000   \n",
       "\n",
       "       Tomatometer Rotten Critics Count  \n",
       "count                        439.000000  \n",
       "mean                          12.275626  \n",
       "std                           19.310232  \n",
       "min                            0.000000  \n",
       "25%                            2.000000  \n",
       "50%                            5.000000  \n",
       "75%                           15.000000  \n",
       "max                          182.000000  "
      ]
     },
     "execution_count": 264,
     "metadata": {},
     "output_type": "execute_result"
    }
   ],
   "source": [
    "df.describe()"
   ]
  },
  {
   "cell_type": "code",
   "execution_count": 265,
   "id": "43b49992",
   "metadata": {},
   "outputs": [],
   "source": [
    "last_50_years = df[280:]"
   ]
  },
  {
   "cell_type": "code",
   "execution_count": 266,
   "id": "34c24422",
   "metadata": {},
   "outputs": [
    {
     "name": "stdout",
     "output_type": "stream",
     "text": [
      "<class 'pandas.core.frame.DataFrame'>\n",
      "RangeIndex: 571 entries, 0 to 570\n",
      "Data columns (total 30 columns):\n",
      " #   Column                            Non-Null Count  Dtype  \n",
      "---  ------                            --------------  -----  \n",
      " 0   Unnamed: 0                        571 non-null    int64  \n",
      " 1   Film                              571 non-null    object \n",
      " 2   Oscar Year                        571 non-null    object \n",
      " 3   Film Studio/Producer(s)           571 non-null    object \n",
      " 4   Award                             571 non-null    object \n",
      " 5   Year of Release                   571 non-null    int64  \n",
      " 6   Movie Time                        571 non-null    int64  \n",
      " 7   Movie Genre                       571 non-null    object \n",
      " 8   IMDB Rating                       571 non-null    float64\n",
      " 9   IMDB Votes                        571 non-null    object \n",
      " 10  Movie Info                        438 non-null    object \n",
      " 11  Genres                            439 non-null    object \n",
      " 12  Critic Consensus                  339 non-null    object \n",
      " 13  Content Rating                    439 non-null    object \n",
      " 14  Directors                         437 non-null    object \n",
      " 15  Authors                           437 non-null    object \n",
      " 16  Actors                            439 non-null    object \n",
      " 17  Original Release Date             439 non-null    object \n",
      " 18  Streaming Release Date            438 non-null    object \n",
      " 19  Production Company                439 non-null    object \n",
      " 20  Tomatometer Status                439 non-null    object \n",
      " 21  Tomatometer Rating                439 non-null    float64\n",
      " 22  Tomatometer Count                 439 non-null    float64\n",
      " 23  Audience Status                   436 non-null    object \n",
      " 24  Audience Rating                   439 non-null    float64\n",
      " 25  Audience Count                    439 non-null    float64\n",
      " 26  Tomatometer Top Critics Count     439 non-null    float64\n",
      " 27  Tomatometer Fresh Critics Count   439 non-null    float64\n",
      " 28  Tomatometer Rotten Critics Count  439 non-null    float64\n",
      " 29  Film ID                           571 non-null    object \n",
      "dtypes: float64(8), int64(3), object(19)\n",
      "memory usage: 134.0+ KB\n"
     ]
    }
   ],
   "source": [
    "df.info()"
   ]
  },
  {
   "cell_type": "code",
   "execution_count": 267,
   "id": "a87393da",
   "metadata": {},
   "outputs": [
    {
     "data": {
      "text/plain": [
       "Martin Scorsese         8\n",
       "Steven Spielberg        8\n",
       "Clint Eastwood          4\n",
       "Francis Ford Coppola    3\n",
       "Sidney Lumet            3\n",
       "                       ..\n",
       "Neil Jordan             1\n",
       "Barbra Streisand        1\n",
       "Gary Trousdale          1\n",
       "Jonathan Demme          1\n",
       "Noah Baumbach           1\n",
       "Name: Directors, Length: 157, dtype: int64"
      ]
     },
     "execution_count": 267,
     "metadata": {},
     "output_type": "execute_result"
    }
   ],
   "source": [
    "last_50_years['Directors'].value_counts()"
   ]
  },
  {
   "cell_type": "code",
   "execution_count": 268,
   "id": "4df4c10f",
   "metadata": {},
   "outputs": [],
   "source": [
    "filtwin = (last_50_years['Award']=='Winner')"
   ]
  },
  {
   "cell_type": "code",
   "execution_count": 269,
   "id": "4897e330",
   "metadata": {},
   "outputs": [],
   "source": [
    "filtnom = (last_50_years['Award']=='Nominee')"
   ]
  },
  {
   "cell_type": "code",
   "execution_count": 270,
   "id": "550014b1",
   "metadata": {},
   "outputs": [
    {
     "data": {
      "text/plain": [
       "280    9.2\n",
       "285    8.3\n",
       "290    9.0\n",
       "295    8.7\n",
       "300    8.1\n",
       "305    8.0\n",
       "310    8.1\n",
       "315    7.8\n",
       "320    7.7\n",
       "325    7.2\n",
       "330    8.0\n",
       "335    7.4\n",
       "340    8.3\n",
       "345    7.2\n",
       "350    8.1\n",
       "355    7.7\n",
       "360    8.0\n",
       "365    7.4\n",
       "370    8.0\n",
       "375    8.6\n",
       "380    8.2\n",
       "385    8.9\n",
       "390    8.8\n",
       "395    8.3\n",
       "400    7.4\n",
       "405    7.8\n",
       "410    7.1\n",
       "415    8.3\n",
       "420    8.5\n",
       "425    8.2\n",
       "430    7.2\n",
       "435    8.9\n",
       "440    8.1\n",
       "445    7.7\n",
       "450    8.5\n",
       "455    8.1\n",
       "460    8.0\n",
       "465    7.5\n",
       "475    8.0\n",
       "485    7.9\n",
       "494    7.7\n",
       "503    8.1\n",
       "512    7.7\n",
       "520    8.1\n",
       "528    7.4\n",
       "537    7.3\n",
       "546    8.2\n",
       "554    8.6\n",
       "563    7.4\n",
       "Name: IMDB Rating, dtype: float64"
      ]
     },
     "execution_count": 270,
     "metadata": {},
     "output_type": "execute_result"
    }
   ],
   "source": [
    "last_50_years.loc[filtwin,'IMDB Rating']"
   ]
  },
  {
   "cell_type": "code",
   "execution_count": 271,
   "id": "41e55760",
   "metadata": {},
   "outputs": [],
   "source": [
    "nom_rating = last_50_years.loc[filtnom,['Oscar Year','IMDB Rating']]\n",
    "win_rating = last_50_years.loc[filtwin,['Oscar Year','IMDB Rating']]"
   ]
  },
  {
   "cell_type": "code",
   "execution_count": 272,
   "id": "4cdcf03a",
   "metadata": {},
   "outputs": [
    {
     "data": {
      "text/plain": [
       "Oscar Year          inf\n",
       "IMDB Rating    7.672727\n",
       "dtype: float64"
      ]
     },
     "execution_count": 272,
     "metadata": {},
     "output_type": "execute_result"
    }
   ],
   "source": [
    "pd.DataFrame.mean(nom_rating)"
   ]
  },
  {
   "cell_type": "code",
   "execution_count": 234,
   "id": "cb932db7",
   "metadata": {},
   "outputs": [
    {
     "data": {
      "text/plain": [
       "Oscar Year     4.024892e+193\n",
       "IMDB Rating     8.014286e+00\n",
       "dtype: float64"
      ]
     },
     "execution_count": 234,
     "metadata": {},
     "output_type": "execute_result"
    }
   ],
   "source": [
    "pd.DataFrame.mean(win_rating)"
   ]
  },
  {
   "cell_type": "code",
   "execution_count": 249,
   "id": "98e8d235",
   "metadata": {},
   "outputs": [],
   "source": [
    "nom_length = last_50_years.loc[filtnom,['Oscar Year','Movie Time']]\n",
    "win_length = last_50_years.loc[filtwin,['Oscar Year','Movie Time']]"
   ]
  },
  {
   "cell_type": "code",
   "execution_count": 236,
   "id": "ffc604e1",
   "metadata": {},
   "outputs": [
    {
     "data": {
      "text/plain": [
       "127.36776859504133"
      ]
     },
     "execution_count": 236,
     "metadata": {},
     "output_type": "execute_result"
    }
   ],
   "source": [
    "pd.DataFrame.mean(nom_length)"
   ]
  },
  {
   "cell_type": "code",
   "execution_count": 237,
   "id": "54c5f81b",
   "metadata": {},
   "outputs": [
    {
     "data": {
      "text/plain": [
       "138.53061224489795"
      ]
     },
     "execution_count": 237,
     "metadata": {},
     "output_type": "execute_result"
    }
   ],
   "source": [
    "pd.DataFrame.mean(win_length)"
   ]
  },
  {
   "cell_type": "code",
   "execution_count": 239,
   "id": "5d1066e9",
   "metadata": {},
   "outputs": [],
   "source": [
    "nom_directors = last_50_years.loc[filtnom,'Directors']\n",
    "win_directors = last_50_years.loc[filtwin,'Directors']"
   ]
  },
  {
   "cell_type": "code",
   "execution_count": 240,
   "id": "7053842c",
   "metadata": {},
   "outputs": [
    {
     "data": {
      "text/plain": [
       "Martin Scorsese     7\n",
       "Steven Spielberg    7\n",
       "Peter Weir          3\n",
       "David O. Russell    3\n",
       "Stephen Frears      3\n",
       "                   ..\n",
       "Rob Reiner          1\n",
       "Neil Jordan         1\n",
       "Barbra Streisand    1\n",
       "Barry Levinson      1\n",
       "Noah Baumbach       1\n",
       "Name: Directors, Length: 137, dtype: int64"
      ]
     },
     "execution_count": 240,
     "metadata": {},
     "output_type": "execute_result"
    }
   ],
   "source": [
    "nom_directors.value_counts()"
   ]
  },
  {
   "cell_type": "code",
   "execution_count": 241,
   "id": "b563bdf1",
   "metadata": {},
   "outputs": [
    {
     "data": {
      "text/plain": [
       "Milos Forman             2\n",
       "Clint Eastwood           2\n",
       "Francis Ford Coppola     1\n",
       "Martin Scorsese          1\n",
       "Sam Mendes               1\n",
       "Ridley Scott             1\n",
       "Ron Howard               1\n",
       "Rob Marshall             1\n",
       "Peter Jackson            1\n",
       "Paul Haggis              1\n",
       "Joel Coen, Ethan Coen    1\n",
       "James Cameron            1\n",
       "Danny Boyle              1\n",
       "Tom Hooper               1\n",
       "Michel Hazanavicius      1\n",
       "Ben Affleck              1\n",
       "Steve McQueen (III)      1\n",
       "Barry Jenkins (III)      1\n",
       "Guillermo del Toro       1\n",
       "John Madden (II)         1\n",
       "Mel Gibson               1\n",
       "Anthony Minghella        1\n",
       "George Roy Hill          1\n",
       "John G. Avildsen         1\n",
       "Woody Allen              1\n",
       "Michael Cimino           1\n",
       "Robert Benton            1\n",
       "Robert Redford           1\n",
       "Hugh Hudson              1\n",
       "Richard Attenborough     1\n",
       "James L. Brooks          1\n",
       "Sydney Pollack           1\n",
       "Oliver Stone             1\n",
       "Bernardo Bertolucci      1\n",
       "Barry Levinson           1\n",
       "Jonathan Demme           1\n",
       "Steven Spielberg         1\n",
       "Robert Zemeckis          1\n",
       "Peter Farrelly           1\n",
       "Name: Directors, dtype: int64"
      ]
     },
     "execution_count": 241,
     "metadata": {},
     "output_type": "execute_result"
    }
   ],
   "source": [
    "win_directors.value_counts()"
   ]
  },
  {
   "cell_type": "code",
   "execution_count": 242,
   "id": "9afb0818",
   "metadata": {},
   "outputs": [],
   "source": [
    "nom_genre = last_50_years.loc[filtnom,'Movie Genre']\n",
    "win_genre = last_50_years.loc[filtwin,'Movie Genre']"
   ]
  },
  {
   "cell_type": "code",
   "execution_count": 243,
   "id": "7972eb9f",
   "metadata": {},
   "outputs": [
    {
     "data": {
      "text/plain": [
       "Drama                      25\n",
       "Drama,Romance              20\n",
       "Comedy,Drama,Romance       17\n",
       "Biography,Drama,History    13\n",
       "Comedy,Drama               13\n",
       "                           ..\n",
       "Biography,Drama,Family      1\n",
       "Adventure,Thriller          1\n",
       "Drama,Mystery,Romance       1\n",
       "Action,Sci-Fi,Thriller      1\n",
       "Comedy,Drama,War            1\n",
       "Name: Movie Genre, Length: 78, dtype: int64"
      ]
     },
     "execution_count": 243,
     "metadata": {},
     "output_type": "execute_result"
    }
   ],
   "source": [
    "nom_genre.value_counts()"
   ]
  },
  {
   "cell_type": "code",
   "execution_count": 255,
   "id": "99e33bab",
   "metadata": {},
   "outputs": [
    {
     "data": {
      "text/plain": [
       "<AxesSubplot:xlabel='Oscar Year', ylabel='IMDB Rating'>"
      ]
     },
     "execution_count": 255,
     "metadata": {},
     "output_type": "execute_result"
    },
    {
     "data": {
      "image/png": "[encoded data removed]",
      "text/plain": [
       "<Figure size 432x288 with 1 Axes>"
      ]
     },
     "metadata": {
      "needs_background": "light"
     },
     "output_type": "display_data"
    }
   ],
   "source": [
    "sns.set()\n",
    "%matplotlib inline\n",
    "# Later in the course I shall explain why above 2 lines of code have been added.\n",
    "\n",
    "sns.stripplot(x=\"Oscar Year\", y=\"IMDB Rating\", data=nom_rating)"
   ]
  },
  {
   "cell_type": "code",
   "execution_count": 260,
   "id": "5b0799af",
   "metadata": {},
   "outputs": [
    {
     "data": {
      "text/plain": [
       "<AxesSubplot:xlabel='Oscar Year', ylabel='IMDB Rating'>"
      ]
     },
     "execution_count": 260,
     "metadata": {},
     "output_type": "execute_result"
    },
    {
     "data": {
      "image/png": "[encoded data removed]",
      "text/plain": [
       "<Figure size 432x288 with 1 Axes>"
      ]
     },
     "metadata": {
      "needs_background": "light"
     },
     "output_type": "display_data"
    }
   ],
   "source": [
    "sns.set()\n",
    "%matplotlib inline\n",
    "# Later in the course I shall explain why above 2 lines of code have been added.\n",
    "\n",
    "sns.stripplot(x=\"Oscar Year\", y=\"IMDB Rating\", data=win_rating)"
   ]
  },
  {
   "cell_type": "code",
   "execution_count": 253,
   "id": "dedf7baa",
   "metadata": {},
   "outputs": [
    {
     "data": {
      "text/plain": [
       "<AxesSubplot:xlabel='Oscar Year', ylabel='Movie Time'>"
      ]
     },
     "execution_count": 253,
     "metadata": {},
     "output_type": "execute_result"
    },
    {
     "data": {
      "image/png": "[encoded data removed]",
      "text/plain": [
       "<Figure size 432x288 with 1 Axes>"
      ]
     },
     "metadata": {
      "needs_background": "light"
     },
     "output_type": "display_data"
    }
   ],
   "source": [
    "sns.set()\n",
    "%matplotlib inline\n",
    "# Later in the course I shall explain why above 2 lines of code have been added.\n",
    "\n",
    "sns.stripplot(x=\"Oscar Year\", y=\"Movie Time\", data=nom_length)"
   ]
  },
  {
   "cell_type": "code",
   "execution_count": 251,
   "id": "5c1f5c70",
   "metadata": {},
   "outputs": [
    {
     "data": {
      "text/plain": [
       "<AxesSubplot:xlabel='Oscar Year', ylabel='Movie Time'>"
      ]
     },
     "execution_count": 251,
     "metadata": {},
     "output_type": "execute_result"
    },
    {
     "data": {
      "image/png": "[encoded data removed]",
      "text/plain": [
       "<Figure size 432x288 with 1 Axes>"
      ]
     },
     "metadata": {
      "needs_background": "light"
     },
     "output_type": "display_data"
    }
   ],
   "source": [
    "sns.set()\n",
    "%matplotlib inline\n",
    "# Later in the course I shall explain why above 2 lines of code have been added.\n",
    "\n",
    "sns.swarmplot(x=\"Oscar Year\", y=\"Movie Time\", data=win_length)"
   ]
  },
  {
   "cell_type": "code",
   "execution_count": 252,
   "id": "4c7b6ea5",
   "metadata": {},
   "outputs": [
    {
     "data": {
      "text/plain": [
       "<AxesSubplot:xlabel='Oscar Year', ylabel='Movie Time'>"
      ]
     },
     "execution_count": 252,
     "metadata": {},
     "output_type": "execute_result"
    },
    {
     "data": {
      "image/png": "[encoded data removed]",
      "text/plain": [
       "<Figure size 432x288 with 1 Axes>"
      ]
     },
     "metadata": {
      "needs_background": "light"
     },
     "output_type": "display_data"
    }
   ],
   "source": [
    "# Loading built-in Tips dataset:\n",
    "tips = sns.load_dataset(\"tips\")\n",
    "\n",
    "# Plotting basic Strip Plot by adding little noise with 'jitter' parameter:\n",
    "sns.stripplot(x=\"Oscar Year\", y=\"Movie Time\", data=win_length)"
   ]
  },
  {
   "cell_type": "code",
   "execution_count": null,
   "id": "27c8a0e5",
   "metadata": {},
   "outputs": [],
   "source": []
  },
  {
   "cell_type": "code",
   "execution_count": null,
   "id": "75a259bf",
   "metadata": {},
   "outputs": [],
   "source": []
  },
  {
   "cell_type": "raw",
   "id": "bf3ea328",
   "metadata": {},
   "source": []
  },
  {
   "cell_type": "code",
   "execution_count": null,
   "id": "5a2a377f",
   "metadata": {},
   "outputs": [],
   "source": []
  },
  {
   "cell_type": "code",
   "execution_count": null,
   "id": "f3a9ee49",
   "metadata": {},
   "outputs": [],
   "source": []
  },
  {
   "cell_type": "code",
   "execution_count": null,
   "id": "d1c9298a",
   "metadata": {},
   "outputs": [],
   "source": []
  }
 ],
 "metadata": {
  "kernelspec": {
   "display_name": "Python 3 (ipykernel)",
   "language": "python",
   "name": "python3"
  },
  "language_info": {
   "codemirror_mode": {
    "name": "ipython",
    "version": 3
   },
   "file_extension": ".py",
   "mimetype": "text/x-python",
   "name": "python",
   "nbconvert_exporter": "python",
   "pygments_lexer": "ipython3",
   "version": "3.9.12"
  }
 },
 "nbformat": 4,
 "nbformat_minor": 5
}
