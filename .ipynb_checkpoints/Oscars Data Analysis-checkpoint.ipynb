{
 "cells": [
  {
   "cell_type": "code",
   "execution_count": 149,
   "id": "704714c5",
   "metadata": {},
   "outputs": [],
   "source": [
    "import pandas as pd"
   ]
  },
  {
   "cell_type": "code",
   "execution_count": 150,
   "id": "f40ad19d",
   "metadata": {},
   "outputs": [],
   "source": [
    "#df = pd.read_csv('oscars_df.csv',index_col='Film')\n",
    "df = pd.read_csv('oscars_df.csv')"
   ]
  },
  {
   "cell_type": "code",
   "execution_count": 151,
   "id": "91c4311a",
   "metadata": {},
   "outputs": [],
   "source": [
    "df.at[563,'Award']='Winner'"
   ]
  },
  {
   "cell_type": "code",
   "execution_count": 152,
   "id": "43b49992",
   "metadata": {},
   "outputs": [
    {
     "data": {
      "text/html": [
       "<div>\n",
       "<style scoped>\n",
       "    .dataframe tbody tr th:only-of-type {\n",
       "        vertical-align: middle;\n",
       "    }\n",
       "\n",
       "    .dataframe tbody tr th {\n",
       "        vertical-align: top;\n",
       "    }\n",
       "\n",
       "    .dataframe thead th {\n",
       "        text-align: right;\n",
       "    }\n",
       "</style>\n",
       "<table border=\"1\" class=\"dataframe\">\n",
       "  <thead>\n",
       "    <tr style=\"text-align: right;\">\n",
       "      <th></th>\n",
       "      <th>Unnamed: 0</th>\n",
       "      <th>Film</th>\n",
       "      <th>Oscar Year</th>\n",
       "      <th>Film Studio/Producer(s)</th>\n",
       "      <th>Award</th>\n",
       "      <th>Year of Release</th>\n",
       "      <th>Movie Time</th>\n",
       "      <th>Movie Genre</th>\n",
       "      <th>IMDB Rating</th>\n",
       "      <th>IMDB Votes</th>\n",
       "      <th>...</th>\n",
       "      <th>Tomatometer Status</th>\n",
       "      <th>Tomatometer Rating</th>\n",
       "      <th>Tomatometer Count</th>\n",
       "      <th>Audience Status</th>\n",
       "      <th>Audience Rating</th>\n",
       "      <th>Audience Count</th>\n",
       "      <th>Tomatometer Top Critics Count</th>\n",
       "      <th>Tomatometer Fresh Critics Count</th>\n",
       "      <th>Tomatometer Rotten Critics Count</th>\n",
       "      <th>Film ID</th>\n",
       "    </tr>\n",
       "  </thead>\n",
       "  <tbody>\n",
       "    <tr>\n",
       "      <th>561</th>\n",
       "      <td>561</td>\n",
       "      <td>Marriage Story</td>\n",
       "      <td>2019</td>\n",
       "      <td>Noah Baumbach and David Heyman</td>\n",
       "      <td>Nominee</td>\n",
       "      <td>2019</td>\n",
       "      <td>137</td>\n",
       "      <td>Comedy,Drama,Romance</td>\n",
       "      <td>7.9</td>\n",
       "      <td>270,304</td>\n",
       "      <td>...</td>\n",
       "      <td>Certified-Fresh</td>\n",
       "      <td>94.0</td>\n",
       "      <td>381.0</td>\n",
       "      <td>NaN</td>\n",
       "      <td>85.0</td>\n",
       "      <td>184.0</td>\n",
       "      <td>48.0</td>\n",
       "      <td>359.0</td>\n",
       "      <td>22.0</td>\n",
       "      <td>4dfbadb9-b7f9-4c24-bbd8-5d55dce2c7c6</td>\n",
       "    </tr>\n",
       "    <tr>\n",
       "      <th>562</th>\n",
       "      <td>562</td>\n",
       "      <td>Once Upon a Time in Hollywood</td>\n",
       "      <td>2019</td>\n",
       "      <td>David Heyman, Shannon McIntosh, and Quentin Ta...</td>\n",
       "      <td>Nominee</td>\n",
       "      <td>2019</td>\n",
       "      <td>161</td>\n",
       "      <td>Comedy,Drama</td>\n",
       "      <td>7.6</td>\n",
       "      <td>628,233</td>\n",
       "      <td>...</td>\n",
       "      <td>NaN</td>\n",
       "      <td>NaN</td>\n",
       "      <td>NaN</td>\n",
       "      <td>NaN</td>\n",
       "      <td>NaN</td>\n",
       "      <td>NaN</td>\n",
       "      <td>NaN</td>\n",
       "      <td>NaN</td>\n",
       "      <td>NaN</td>\n",
       "      <td>80060b63-3c4c-42c3-ab4f-4efee21776bd</td>\n",
       "    </tr>\n",
       "    <tr>\n",
       "      <th>563</th>\n",
       "      <td>563</td>\n",
       "      <td>Nomadland</td>\n",
       "      <td>2020</td>\n",
       "      <td>Frances McDormand, Peter Spears, Mollye Asher,...</td>\n",
       "      <td>Winner</td>\n",
       "      <td>2020</td>\n",
       "      <td>107</td>\n",
       "      <td>Drama</td>\n",
       "      <td>7.4</td>\n",
       "      <td>123,041</td>\n",
       "      <td>...</td>\n",
       "      <td>NaN</td>\n",
       "      <td>NaN</td>\n",
       "      <td>NaN</td>\n",
       "      <td>NaN</td>\n",
       "      <td>NaN</td>\n",
       "      <td>NaN</td>\n",
       "      <td>NaN</td>\n",
       "      <td>NaN</td>\n",
       "      <td>NaN</td>\n",
       "      <td>f04508ab-e957-49aa-908e-c1286123a493</td>\n",
       "    </tr>\n",
       "    <tr>\n",
       "      <th>564</th>\n",
       "      <td>564</td>\n",
       "      <td>The Father</td>\n",
       "      <td>2020</td>\n",
       "      <td>David Parfitt, Jean-Louis Livi, and Philippe C...</td>\n",
       "      <td>Nominee</td>\n",
       "      <td>2020</td>\n",
       "      <td>97</td>\n",
       "      <td>Drama</td>\n",
       "      <td>8.3</td>\n",
       "      <td>89,693</td>\n",
       "      <td>...</td>\n",
       "      <td>NaN</td>\n",
       "      <td>NaN</td>\n",
       "      <td>NaN</td>\n",
       "      <td>NaN</td>\n",
       "      <td>NaN</td>\n",
       "      <td>NaN</td>\n",
       "      <td>NaN</td>\n",
       "      <td>NaN</td>\n",
       "      <td>NaN</td>\n",
       "      <td>73e858b2-7b6e-48b4-80d6-960a992961f5</td>\n",
       "    </tr>\n",
       "    <tr>\n",
       "      <th>565</th>\n",
       "      <td>565</td>\n",
       "      <td>Judas and the Black Messiah</td>\n",
       "      <td>2020</td>\n",
       "      <td>Shaka King, Charles D. King, and Ryan Coogler</td>\n",
       "      <td>Nominee</td>\n",
       "      <td>2021</td>\n",
       "      <td>126</td>\n",
       "      <td>Biography,Drama,History</td>\n",
       "      <td>7.5</td>\n",
       "      <td>58,996</td>\n",
       "      <td>...</td>\n",
       "      <td>NaN</td>\n",
       "      <td>NaN</td>\n",
       "      <td>NaN</td>\n",
       "      <td>NaN</td>\n",
       "      <td>NaN</td>\n",
       "      <td>NaN</td>\n",
       "      <td>NaN</td>\n",
       "      <td>NaN</td>\n",
       "      <td>NaN</td>\n",
       "      <td>cf55544c-fcaa-4b26-9773-52be27359d6f</td>\n",
       "    </tr>\n",
       "    <tr>\n",
       "      <th>566</th>\n",
       "      <td>566</td>\n",
       "      <td>Mank</td>\n",
       "      <td>2020</td>\n",
       "      <td>Ceán Chaffin, Eric Roth, and Douglas Urbanski</td>\n",
       "      <td>Nominee</td>\n",
       "      <td>2020</td>\n",
       "      <td>131</td>\n",
       "      <td>Biography,Comedy,Drama</td>\n",
       "      <td>6.9</td>\n",
       "      <td>65,380</td>\n",
       "      <td>...</td>\n",
       "      <td>NaN</td>\n",
       "      <td>NaN</td>\n",
       "      <td>NaN</td>\n",
       "      <td>NaN</td>\n",
       "      <td>NaN</td>\n",
       "      <td>NaN</td>\n",
       "      <td>NaN</td>\n",
       "      <td>NaN</td>\n",
       "      <td>NaN</td>\n",
       "      <td>47d4ae4f-e782-4cd9-9508-4a07302b1c1a</td>\n",
       "    </tr>\n",
       "    <tr>\n",
       "      <th>567</th>\n",
       "      <td>567</td>\n",
       "      <td>Minari</td>\n",
       "      <td>2020</td>\n",
       "      <td>Christina Oh</td>\n",
       "      <td>Nominee</td>\n",
       "      <td>2020</td>\n",
       "      <td>115</td>\n",
       "      <td>Drama</td>\n",
       "      <td>7.5</td>\n",
       "      <td>57,976</td>\n",
       "      <td>...</td>\n",
       "      <td>NaN</td>\n",
       "      <td>NaN</td>\n",
       "      <td>NaN</td>\n",
       "      <td>NaN</td>\n",
       "      <td>NaN</td>\n",
       "      <td>NaN</td>\n",
       "      <td>NaN</td>\n",
       "      <td>NaN</td>\n",
       "      <td>NaN</td>\n",
       "      <td>7262b3a8-214d-4205-985c-70e0860f3236</td>\n",
       "    </tr>\n",
       "    <tr>\n",
       "      <th>568</th>\n",
       "      <td>568</td>\n",
       "      <td>Promising Young Woman</td>\n",
       "      <td>2020</td>\n",
       "      <td>Ben Browning, Ashley Fox, Emerald Fennell, and...</td>\n",
       "      <td>Nominee</td>\n",
       "      <td>2020</td>\n",
       "      <td>113</td>\n",
       "      <td>Crime,Drama,Thriller</td>\n",
       "      <td>7.5</td>\n",
       "      <td>122,269</td>\n",
       "      <td>...</td>\n",
       "      <td>NaN</td>\n",
       "      <td>NaN</td>\n",
       "      <td>NaN</td>\n",
       "      <td>NaN</td>\n",
       "      <td>NaN</td>\n",
       "      <td>NaN</td>\n",
       "      <td>NaN</td>\n",
       "      <td>NaN</td>\n",
       "      <td>NaN</td>\n",
       "      <td>d64c669b-7a73-496a-bddb-19cb09264371</td>\n",
       "    </tr>\n",
       "    <tr>\n",
       "      <th>569</th>\n",
       "      <td>569</td>\n",
       "      <td>Sound of Metal</td>\n",
       "      <td>2020</td>\n",
       "      <td>Bert Hamelinck and Sacha Ben Harroche</td>\n",
       "      <td>Nominee</td>\n",
       "      <td>2019</td>\n",
       "      <td>120</td>\n",
       "      <td>Drama,Music</td>\n",
       "      <td>7.8</td>\n",
       "      <td>102,807</td>\n",
       "      <td>...</td>\n",
       "      <td>NaN</td>\n",
       "      <td>NaN</td>\n",
       "      <td>NaN</td>\n",
       "      <td>NaN</td>\n",
       "      <td>NaN</td>\n",
       "      <td>NaN</td>\n",
       "      <td>NaN</td>\n",
       "      <td>NaN</td>\n",
       "      <td>NaN</td>\n",
       "      <td>647357e9-c067-46bd-aaeb-24d4344ec124</td>\n",
       "    </tr>\n",
       "    <tr>\n",
       "      <th>570</th>\n",
       "      <td>570</td>\n",
       "      <td>The Trial of the Chicago 7</td>\n",
       "      <td>2020</td>\n",
       "      <td>Marc Platt and Stuart M. Besser</td>\n",
       "      <td>Nominee</td>\n",
       "      <td>2020</td>\n",
       "      <td>129</td>\n",
       "      <td>Drama,History,Thriller</td>\n",
       "      <td>7.8</td>\n",
       "      <td>156,283</td>\n",
       "      <td>...</td>\n",
       "      <td>NaN</td>\n",
       "      <td>NaN</td>\n",
       "      <td>NaN</td>\n",
       "      <td>NaN</td>\n",
       "      <td>NaN</td>\n",
       "      <td>NaN</td>\n",
       "      <td>NaN</td>\n",
       "      <td>NaN</td>\n",
       "      <td>NaN</td>\n",
       "      <td>cecbca48-f19c-43f4-81d2-da130facda95</td>\n",
       "    </tr>\n",
       "  </tbody>\n",
       "</table>\n",
       "<p>10 rows × 30 columns</p>\n",
       "</div>"
      ],
      "text/plain": [
       "     Unnamed: 0                           Film Oscar Year  \\\n",
       "561         561                 Marriage Story       2019   \n",
       "562         562  Once Upon a Time in Hollywood       2019   \n",
       "563         563                      Nomadland       2020   \n",
       "564         564                     The Father       2020   \n",
       "565         565    Judas and the Black Messiah       2020   \n",
       "566         566                           Mank       2020   \n",
       "567         567                         Minari       2020   \n",
       "568         568          Promising Young Woman       2020   \n",
       "569         569                 Sound of Metal       2020   \n",
       "570         570     The Trial of the Chicago 7       2020   \n",
       "\n",
       "                               Film Studio/Producer(s)    Award  \\\n",
       "561                     Noah Baumbach and David Heyman  Nominee   \n",
       "562  David Heyman, Shannon McIntosh, and Quentin Ta...  Nominee   \n",
       "563  Frances McDormand, Peter Spears, Mollye Asher,...   Winner   \n",
       "564  David Parfitt, Jean-Louis Livi, and Philippe C...  Nominee   \n",
       "565      Shaka King, Charles D. King, and Ryan Coogler  Nominee   \n",
       "566      Ceán Chaffin, Eric Roth, and Douglas Urbanski  Nominee   \n",
       "567                                       Christina Oh  Nominee   \n",
       "568  Ben Browning, Ashley Fox, Emerald Fennell, and...  Nominee   \n",
       "569              Bert Hamelinck and Sacha Ben Harroche  Nominee   \n",
       "570                    Marc Platt and Stuart M. Besser  Nominee   \n",
       "\n",
       "     Year of Release  Movie Time              Movie Genre  IMDB Rating  \\\n",
       "561             2019         137     Comedy,Drama,Romance          7.9   \n",
       "562             2019         161             Comedy,Drama          7.6   \n",
       "563             2020         107                    Drama          7.4   \n",
       "564             2020          97                    Drama          8.3   \n",
       "565             2021         126  Biography,Drama,History          7.5   \n",
       "566             2020         131   Biography,Comedy,Drama          6.9   \n",
       "567             2020         115                    Drama          7.5   \n",
       "568             2020         113     Crime,Drama,Thriller          7.5   \n",
       "569             2019         120              Drama,Music          7.8   \n",
       "570             2020         129   Drama,History,Thriller          7.8   \n",
       "\n",
       "    IMDB Votes  ... Tomatometer Status Tomatometer Rating Tomatometer Count  \\\n",
       "561    270,304  ...    Certified-Fresh               94.0             381.0   \n",
       "562    628,233  ...                NaN                NaN               NaN   \n",
       "563    123,041  ...                NaN                NaN               NaN   \n",
       "564     89,693  ...                NaN                NaN               NaN   \n",
       "565     58,996  ...                NaN                NaN               NaN   \n",
       "566     65,380  ...                NaN                NaN               NaN   \n",
       "567     57,976  ...                NaN                NaN               NaN   \n",
       "568    122,269  ...                NaN                NaN               NaN   \n",
       "569    102,807  ...                NaN                NaN               NaN   \n",
       "570    156,283  ...                NaN                NaN               NaN   \n",
       "\n",
       "    Audience Status Audience Rating Audience Count  \\\n",
       "561             NaN            85.0          184.0   \n",
       "562             NaN             NaN            NaN   \n",
       "563             NaN             NaN            NaN   \n",
       "564             NaN             NaN            NaN   \n",
       "565             NaN             NaN            NaN   \n",
       "566             NaN             NaN            NaN   \n",
       "567             NaN             NaN            NaN   \n",
       "568             NaN             NaN            NaN   \n",
       "569             NaN             NaN            NaN   \n",
       "570             NaN             NaN            NaN   \n",
       "\n",
       "    Tomatometer Top Critics Count Tomatometer Fresh Critics Count  \\\n",
       "561                          48.0                           359.0   \n",
       "562                           NaN                             NaN   \n",
       "563                           NaN                             NaN   \n",
       "564                           NaN                             NaN   \n",
       "565                           NaN                             NaN   \n",
       "566                           NaN                             NaN   \n",
       "567                           NaN                             NaN   \n",
       "568                           NaN                             NaN   \n",
       "569                           NaN                             NaN   \n",
       "570                           NaN                             NaN   \n",
       "\n",
       "    Tomatometer Rotten Critics Count                               Film ID  \n",
       "561                             22.0  4dfbadb9-b7f9-4c24-bbd8-5d55dce2c7c6  \n",
       "562                              NaN  80060b63-3c4c-42c3-ab4f-4efee21776bd  \n",
       "563                              NaN  f04508ab-e957-49aa-908e-c1286123a493  \n",
       "564                              NaN  73e858b2-7b6e-48b4-80d6-960a992961f5  \n",
       "565                              NaN  cf55544c-fcaa-4b26-9773-52be27359d6f  \n",
       "566                              NaN  47d4ae4f-e782-4cd9-9508-4a07302b1c1a  \n",
       "567                              NaN  7262b3a8-214d-4205-985c-70e0860f3236  \n",
       "568                              NaN  d64c669b-7a73-496a-bddb-19cb09264371  \n",
       "569                              NaN  647357e9-c067-46bd-aaeb-24d4344ec124  \n",
       "570                              NaN  cecbca48-f19c-43f4-81d2-da130facda95  \n",
       "\n",
       "[10 rows x 30 columns]"
      ]
     },
     "execution_count": 152,
     "metadata": {},
     "output_type": "execute_result"
    }
   ],
   "source": [
    "df.tail(10)"
   ]
  },
  {
   "cell_type": "code",
   "execution_count": 153,
   "id": "34c24422",
   "metadata": {},
   "outputs": [
    {
     "name": "stdout",
     "output_type": "stream",
     "text": [
      "<class 'pandas.core.frame.DataFrame'>\n",
      "RangeIndex: 571 entries, 0 to 570\n",
      "Data columns (total 30 columns):\n",
      " #   Column                            Non-Null Count  Dtype  \n",
      "---  ------                            --------------  -----  \n",
      " 0   Unnamed: 0                        571 non-null    int64  \n",
      " 1   Film                              571 non-null    object \n",
      " 2   Oscar Year                        571 non-null    object \n",
      " 3   Film Studio/Producer(s)           571 non-null    object \n",
      " 4   Award                             571 non-null    object \n",
      " 5   Year of Release                   571 non-null    int64  \n",
      " 6   Movie Time                        571 non-null    int64  \n",
      " 7   Movie Genre                       571 non-null    object \n",
      " 8   IMDB Rating                       571 non-null    float64\n",
      " 9   IMDB Votes                        571 non-null    object \n",
      " 10  Movie Info                        438 non-null    object \n",
      " 11  Genres                            439 non-null    object \n",
      " 12  Critic Consensus                  339 non-null    object \n",
      " 13  Content Rating                    439 non-null    object \n",
      " 14  Directors                         437 non-null    object \n",
      " 15  Authors                           437 non-null    object \n",
      " 16  Actors                            439 non-null    object \n",
      " 17  Original Release Date             439 non-null    object \n",
      " 18  Streaming Release Date            438 non-null    object \n",
      " 19  Production Company                439 non-null    object \n",
      " 20  Tomatometer Status                439 non-null    object \n",
      " 21  Tomatometer Rating                439 non-null    float64\n",
      " 22  Tomatometer Count                 439 non-null    float64\n",
      " 23  Audience Status                   436 non-null    object \n",
      " 24  Audience Rating                   439 non-null    float64\n",
      " 25  Audience Count                    439 non-null    float64\n",
      " 26  Tomatometer Top Critics Count     439 non-null    float64\n",
      " 27  Tomatometer Fresh Critics Count   439 non-null    float64\n",
      " 28  Tomatometer Rotten Critics Count  439 non-null    float64\n",
      " 29  Film ID                           571 non-null    object \n",
      "dtypes: float64(8), int64(3), object(19)\n",
      "memory usage: 134.0+ KB\n"
     ]
    }
   ],
   "source": [
    "df.info()"
   ]
  },
  {
   "cell_type": "code",
   "execution_count": null,
   "id": "d1c9298a",
   "metadata": {},
   "outputs": [],
   "source": []
  },
  {
   "cell_type": "code",
   "execution_count": 154,
   "id": "a87393da",
   "metadata": {},
   "outputs": [
    {
     "data": {
      "text/plain": [
       "William Wyler          11\n",
       "Martin Scorsese         8\n",
       "Steven Spielberg        8\n",
       "George Stevens          7\n",
       "Sam Wood                6\n",
       "                       ..\n",
       "Howard Hawks            1\n",
       "Alexander Hall          1\n",
       "Randa Haines            1\n",
       "Bernardo Bertolucci     1\n",
       "Noah Baumbach           1\n",
       "Name: Directors, Length: 262, dtype: int64"
      ]
     },
     "execution_count": 154,
     "metadata": {},
     "output_type": "execute_result"
    }
   ],
   "source": [
    "df['Directors'].value_counts()"
   ]
  },
  {
   "cell_type": "code",
   "execution_count": 155,
   "id": "4df4c10f",
   "metadata": {},
   "outputs": [],
   "source": [
    "filtwin = (df['Award']=='Winner')"
   ]
  },
  {
   "cell_type": "code",
   "execution_count": 156,
   "id": "4897e330",
   "metadata": {},
   "outputs": [],
   "source": [
    "filtnom = (df['Award']=='Nominee')"
   ]
  },
  {
   "cell_type": "code",
   "execution_count": 157,
   "id": "550014b1",
   "metadata": {},
   "outputs": [
    {
     "data": {
      "text/plain": [
       "0      7.5\n",
       "3      5.7\n",
       "8      8.1\n",
       "13     5.9\n",
       "18     7.4\n",
       "      ... \n",
       "528    7.4\n",
       "537    7.3\n",
       "546    8.2\n",
       "554    8.6\n",
       "563    7.4\n",
       "Name: IMDB Rating, Length: 94, dtype: float64"
      ]
     },
     "execution_count": 157,
     "metadata": {},
     "output_type": "execute_result"
    }
   ],
   "source": [
    "df.loc[filtwin,'IMDB Rating']"
   ]
  },
  {
   "cell_type": "code",
   "execution_count": 158,
   "id": "41e55760",
   "metadata": {},
   "outputs": [],
   "source": [
    "nom_rating = df.loc[filtnom,'IMDB Rating']\n",
    "win_rating = df.loc[filtwin,'IMDB Rating']"
   ]
  },
  {
   "cell_type": "code",
   "execution_count": 159,
   "id": "4cdcf03a",
   "metadata": {},
   "outputs": [
    {
     "data": {
      "text/plain": [
       "7.529140461215933"
      ]
     },
     "execution_count": 159,
     "metadata": {},
     "output_type": "execute_result"
    }
   ],
   "source": [
    "pd.DataFrame.mean(nom_rating)"
   ]
  },
  {
   "cell_type": "code",
   "execution_count": 160,
   "id": "cb932db7",
   "metadata": {},
   "outputs": [
    {
     "data": {
      "text/plain": [
       "7.779787234042553"
      ]
     },
     "execution_count": 160,
     "metadata": {},
     "output_type": "execute_result"
    }
   ],
   "source": [
    "pd.DataFrame.mean(win_rating)"
   ]
  },
  {
   "cell_type": "code",
   "execution_count": 161,
   "id": "74b02e23",
   "metadata": {},
   "outputs": [],
   "source": [
    "nom_length = df.loc[filtnom,'Movie Time']\n",
    "win_length = df.loc[filtwin,'Movie Time']"
   ]
  },
  {
   "cell_type": "code",
   "execution_count": 162,
   "id": "06aa2e58",
   "metadata": {},
   "outputs": [
    {
     "data": {
      "text/plain": [
       "122.25995807127883"
      ]
     },
     "execution_count": 162,
     "metadata": {},
     "output_type": "execute_result"
    }
   ],
   "source": [
    "pd.DataFrame.mean(nom_length)"
   ]
  },
  {
   "cell_type": "code",
   "execution_count": 163,
   "id": "98a835f7",
   "metadata": {},
   "outputs": [
    {
     "data": {
      "text/plain": [
       "138.2659574468085"
      ]
     },
     "execution_count": 163,
     "metadata": {},
     "output_type": "execute_result"
    }
   ],
   "source": [
    "pd.DataFrame.mean(win_length)"
   ]
  },
  {
   "cell_type": "raw",
   "id": "bf3ea328",
   "metadata": {},
   "source": []
  },
  {
   "cell_type": "code",
   "execution_count": null,
   "id": "da460023",
   "metadata": {},
   "outputs": [],
   "source": []
  },
  {
   "cell_type": "code",
   "execution_count": 164,
   "id": "1a21218c",
   "metadata": {},
   "outputs": [],
   "source": [
    "nom_directors = df.loc[filtnom,'Directors']\n",
    "win_directors = df.loc[filtwin,'Directors']"
   ]
  },
  {
   "cell_type": "code",
   "execution_count": 165,
   "id": "e334660e",
   "metadata": {},
   "outputs": [
    {
     "data": {
      "text/plain": [
       "William Wyler            8\n",
       "Steven Spielberg         7\n",
       "Martin Scorsese          7\n",
       "George Stevens           7\n",
       "Sam Wood                 6\n",
       "                        ..\n",
       "Peter Bogdanovich        1\n",
       "Franklin J. Schaffner    1\n",
       "John Boorman             1\n",
       "George Lucas             1\n",
       "Noah Baumbach            1\n",
       "Name: Directors, Length: 232, dtype: int64"
      ]
     },
     "execution_count": 165,
     "metadata": {},
     "output_type": "execute_result"
    }
   ],
   "source": [
    "nom_directors.value_counts()"
   ]
  },
  {
   "cell_type": "code",
   "execution_count": 166,
   "id": "3a652b9e",
   "metadata": {},
   "outputs": [
    {
     "data": {
      "text/plain": [
       "William Wyler        3\n",
       "Fred Zinnemann       2\n",
       "Vincente Minnelli    2\n",
       "Elia Kazan           2\n",
       "Billy Wilder         2\n",
       "                    ..\n",
       "George Roy Hill      1\n",
       "Harry Beaumont       1\n",
       "Woody Allen          1\n",
       "Michael Cimino       1\n",
       "Peter Farrelly       1\n",
       "Name: Directors, Length: 71, dtype: int64"
      ]
     },
     "execution_count": 166,
     "metadata": {},
     "output_type": "execute_result"
    }
   ],
   "source": [
    "win_directors.value_counts()"
   ]
  },
  {
   "cell_type": "code",
   "execution_count": 168,
   "id": "a69b0480",
   "metadata": {},
   "outputs": [],
   "source": [
    "nom_genre = df.loc[filtnom,'Movie Genre']\n",
    "win_genre = df.loc[filtwin,'Movie Genre']"
   ]
  },
  {
   "cell_type": "code",
   "execution_count": 169,
   "id": "93e98d47",
   "metadata": {},
   "outputs": [
    {
     "data": {
      "text/plain": [
       "Drama                        11\n",
       "Biography,Drama,History       8\n",
       "Drama,Romance,War             7\n",
       "Drama,Romance                 6\n",
       "Crime,Drama,Thriller          5\n",
       "Comedy,Drama,Romance          3\n",
       "Drama,War                     3\n",
       "Drama,Western                 2\n",
       "Drama,Family,Musical          2\n",
       "Drama,Musical,Romance         2\n",
       "Action,Adventure,Drama        2\n",
       "Crime,Drama                   2\n",
       "Drama,Film-Noir               2\n",
       "Comedy,Drama                  2\n",
       "Adventure,Drama,History       2\n",
       "Biography,Drama               2\n",
       "Drama,Sport                   2\n",
       "Adventure,Biography,Drama     2\n",
       "Comedy,Romance                2\n",
       "Biography,Drama,Sport         1\n",
       "Biography,Drama,Romance       1\n",
       "Comedy,Crime,Musical          1\n",
       "Adventure,Drama,Western       1\n",
       "Comedy,Drama,History          1\n",
       "Drama,Thriller,War            1\n",
       "Biography,Drama,Thriller      1\n",
       "Biography,Crime,Drama         1\n",
       "Adventure,Drama,Fantasy       1\n",
       "Biography,Comedy,Drama        1\n",
       "Comedy,Crime,Drama            1\n",
       "Adventure,Comedy,History      1\n",
       "Action,Crime,Drama            1\n",
       "Biography,Drama,War           1\n",
       "Crime,Drama,Mystery           1\n",
       "Biography,Drama,Family        1\n",
       "Crime,Drama,Musical           1\n",
       "Comedy,Musical,Romance        1\n",
       "Adventure,Drama,War           1\n",
       "Adventure,Comedy,Family       1\n",
       "Drama,Family,Romance          1\n",
       "Comedy,Drama,Music            1\n",
       "Drama,Family                  1\n",
       "Drama,Mystery,Romance         1\n",
       "Drama,History,Romance         1\n",
       "Biography,Drama,Musical       1\n",
       "Comedy,Drama,Thriller         1\n",
       "Name: Movie Genre, dtype: int64"
      ]
     },
     "execution_count": 169,
     "metadata": {},
     "output_type": "execute_result"
    }
   ],
   "source": [
    "win_genre.value_counts()"
   ]
  },
  {
   "cell_type": "code",
   "execution_count": 170,
   "id": "121f128a",
   "metadata": {},
   "outputs": [
    {
     "data": {
      "text/plain": [
       "Drama,Romance               56\n",
       "Drama                       39\n",
       "Comedy,Drama,Romance        30\n",
       "Biography,Drama,History     27\n",
       "Comedy,Drama                19\n",
       "                            ..\n",
       "Adventure,Comedy,Family      1\n",
       "Action,Crime,Romance         1\n",
       "Adventure,Comedy,Musical     1\n",
       "Crime,Drama,Sci-Fi           1\n",
       "Biography,Comdey,Drama       1\n",
       "Name: Movie Genre, Length: 124, dtype: int64"
      ]
     },
     "execution_count": 170,
     "metadata": {},
     "output_type": "execute_result"
    }
   ],
   "source": [
    "nom_genre.value_counts()"
   ]
  },
  {
   "cell_type": "code",
   "execution_count": null,
   "id": "88fbab3d",
   "metadata": {},
   "outputs": [],
   "source": []
  }
 ],
 "metadata": {
  "kernelspec": {
   "display_name": "Python 3 (ipykernel)",
   "language": "python",
   "name": "python3"
  },
  "language_info": {
   "codemirror_mode": {
    "name": "ipython",
    "version": 3
   },
   "file_extension": ".py",
   "mimetype": "text/x-python",
   "name": "python",
   "nbconvert_exporter": "python",
   "pygments_lexer": "ipython3",
   "version": "3.9.12"
  }
 },
 "nbformat": 4,
 "nbformat_minor": 5
}
